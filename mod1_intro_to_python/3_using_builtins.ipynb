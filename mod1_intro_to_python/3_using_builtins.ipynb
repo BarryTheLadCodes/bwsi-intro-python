{
 "cells": [
  {
   "cell_type": "markdown",
   "metadata": {},
   "source": [
    "# Introduction to Python: Using Built-Ins"
   ]
  },
  {
   "cell_type": "markdown",
   "metadata": {},
   "source": [
    "Please follow the instructions and uncomment the skeleton code as necessary.\n",
    "\n",
    "This assignment is due in addition to the small group assignment before the next class"
   ]
  },
  {
   "cell_type": "markdown",
   "metadata": {},
   "source": [
    "## Part 1: Strings"
   ]
  },
  {
   "cell_type": "code",
   "execution_count": 75,
   "metadata": {},
   "outputs": [],
   "source": [
    "my_name = \"Solal\""
   ]
  },
  {
   "cell_type": "markdown",
   "metadata": {},
   "source": [
    "We can combine strings together to make a full sentence:"
   ]
  },
  {
   "cell_type": "code",
   "execution_count": 76,
   "metadata": {},
   "outputs": [
    {
     "name": "stdout",
     "output_type": "stream",
     "text": [
      "hello world! My name is Solal\n"
     ]
    }
   ],
   "source": [
    "greeting = \"hello world!\"\n",
    "print(greeting + \" My name is \" + my_name)"
   ]
  },
  {
   "cell_type": "markdown",
   "metadata": {},
   "source": [
    "Notice that the sentence we printed isn't capitalized correctly. Luckily, Python has a bulit-in that can help us!"
   ]
  },
  {
   "cell_type": "code",
   "execution_count": 77,
   "metadata": {},
   "outputs": [
    {
     "name": "stdout",
     "output_type": "stream",
     "text": [
      "Hello world! My name is Solal\n"
     ]
    }
   ],
   "source": [
    "# Use the built-in method to capitalize the greeting\n",
    "greeting = greeting.capitalize()\n",
    "print(greeting + \" My name is \" + my_name)"
   ]
  },
  {
   "cell_type": "markdown",
   "metadata": {},
   "source": [
    "### Q.1: What do the following methods do to our string?"
   ]
  },
  {
   "cell_type": "code",
   "execution_count": 78,
   "metadata": {},
   "outputs": [
    {
     "name": "stdout",
     "output_type": "stream",
     "text": [
      "HELLO WORLD! hello world! Heyo world!\n"
     ]
    }
   ],
   "source": [
    "print(greeting.upper(), greeting.lower(), greeting.replace('ll', 'y'))"
   ]
  },
  {
   "cell_type": "markdown",
   "metadata": {},
   "source": [
    "### A.1: \n",
    "**The first string is put in uppercase, the second in lowercase, and the third has \"ll\" replaced by \"y\"**"
   ]
  },
  {
   "cell_type": "markdown",
   "metadata": {},
   "source": [
    "Split and join are two other built-in methods for string variables:\n",
    "- `split`: returns a list of strings, fragments of the original string without the given character\n",
    "- `join`: inserts the given character between each string in a given list and joins them together"
   ]
  },
  {
   "cell_type": "code",
   "execution_count": 79,
   "metadata": {},
   "outputs": [
    {
     "name": "stdout",
     "output_type": "stream",
     "text": [
      "split string:  ['Hell', ' w', 'rld!'] \n",
      "type:  <class 'list'>\n"
     ]
    }
   ],
   "source": [
    "split_greeting = greeting.split('o')\n",
    "print(\"split string: \", split_greeting, \"\\ntype: \", type(split_greeting))"
   ]
  },
  {
   "cell_type": "code",
   "execution_count": 80,
   "metadata": {},
   "outputs": [
    {
     "name": "stdout",
     "output_type": "stream",
     "text": [
      "joined string:  Hello world! \n",
      "type:  <class 'str'>\n"
     ]
    }
   ],
   "source": [
    "joined_greeting = 'o'.join(split_greeting)\n",
    "print(\"joined string: \", joined_greeting, \"\\ntype: \", type(joined_greeting))"
   ]
  },
  {
   "cell_type": "markdown",
   "metadata": {},
   "source": [
    "### Q.2: please use the bulit-in methods to transform the gibberish string below into `\"I'm learning how to code!\"`"
   ]
  },
  {
   "cell_type": "code",
   "execution_count": 81,
   "metadata": {},
   "outputs": [],
   "source": [
    "gibberish = \"'m_L3arNinG_H0w_t0_C0d3!\""
   ]
  },
  {
   "cell_type": "markdown",
   "metadata": {},
   "source": [
    "Uncomment and modify the provided skeleton code as necessary"
   ]
  },
  {
   "cell_type": "code",
   "execution_count": 82,
   "metadata": {},
   "outputs": [
    {
     "name": "stdout",
     "output_type": "stream",
     "text": [
      "I'm learning how to code!\n",
      "I'm learning how to code!\n"
     ]
    }
   ],
   "source": [
    "# Replace the zeros with o\n",
    "step1 = gibberish.replace('0', 'o')\n",
    "\n",
    "# Replace the threes with e\n",
    "step2 = step1.replace('3', 'e')\n",
    "\n",
    "# Make all letters lower case\n",
    "step3 = step2.lower()\n",
    "\n",
    "# Remove all underscores and extract the fragments as a list of strings\n",
    "step4 = step3.split('_')\n",
    "\n",
    "# Join the list of strings with spaces\n",
    "step5 = ' '.join(step4)\n",
    "\n",
    "# Add the missing letter to produce the desired phrase\n",
    "step6 = 'I' + step5\n",
    "\n",
    "all_in_one = 'I' + ' '.join(gibberish.replace('0', 'o').replace('3', 'e').lower().split('_'))\n",
    "print(step6)\n",
    "print(all_in_one)"
   ]
  },
  {
   "cell_type": "markdown",
   "metadata": {},
   "source": [
    "## Part 2: Lists"
   ]
  },
  {
   "cell_type": "markdown",
   "metadata": {},
   "source": [
    "We can group many elements together in a list. In Python, any basic data type can be an element in a list, and elements can be of varying data types. "
   ]
  },
  {
   "cell_type": "code",
   "execution_count": 83,
   "metadata": {},
   "outputs": [],
   "source": [
    "#this is an example of a list of strings\n",
    "names = [\"Kallee\", \"Peter\", \"Silas\"]\n",
    "\n",
    "#this is an example of a list of numbers and strings\n",
    "address = [100, \"ABC St.\", \"OH\", 45458]"
   ]
  },
  {
   "cell_type": "markdown",
   "metadata": {},
   "source": [
    "We can edit our list of names by inserting an element with the built-in method `insert`"
   ]
  },
  {
   "cell_type": "code",
   "execution_count": 84,
   "metadata": {},
   "outputs": [
    {
     "name": "stdout",
     "output_type": "stream",
     "text": [
      "[100, 'ABC St.', 'Apt 1', 'OH', 45458]\n"
     ]
    }
   ],
   "source": [
    "address.insert(2, \"Apt 1\")\n",
    "print(address)"
   ]
  },
  {
   "cell_type": "markdown",
   "metadata": {},
   "source": [
    "These are different from the built-in `append` and `extend` methods, which are more similar to the `+` operator:"
   ]
  },
  {
   "cell_type": "code",
   "execution_count": 85,
   "metadata": {},
   "outputs": [
    {
     "name": "stdout",
     "output_type": "stream",
     "text": [
      "[100, 'ABC St.', 'Apt 1', 'OH', 45458, 'USA']\n"
     ]
    }
   ],
   "source": [
    "address.append(\"USA\")\n",
    "print(address)"
   ]
  },
  {
   "cell_type": "markdown",
   "metadata": {},
   "source": [
    "Note that `extend` takes a list as input, whereas `append` can add a single element to the end of the list:"
   ]
  },
  {
   "cell_type": "code",
   "execution_count": 86,
   "metadata": {},
   "outputs": [
    {
     "name": "stdout",
     "output_type": "stream",
     "text": [
      "['Kallee', 'Peter', 'Silas', 'Shreya', 'Abby']\n"
     ]
    }
   ],
   "source": [
    "names.append(\"Shreya\")\n",
    "names.extend([\"Abby\"])\n",
    "print(names)"
   ]
  },
  {
   "cell_type": "markdown",
   "metadata": {},
   "source": [
    "We can also edit our `names` list by using assignment and indexing"
   ]
  },
  {
   "cell_type": "code",
   "execution_count": 87,
   "metadata": {},
   "outputs": [
    {
     "name": "stdout",
     "output_type": "stream",
     "text": [
      "['Kallee', 'Peter', 'Silas', 'Omar', 'Abby']\n"
     ]
    }
   ],
   "source": [
    "names[3] = \"Omar\"\n",
    "print(names)"
   ]
  },
  {
   "cell_type": "markdown",
   "metadata": {},
   "source": [
    "### Q.3: What difference is there between how `insert` changed the list compared to `list[]`?"
   ]
  },
  {
   "cell_type": "markdown",
   "metadata": {},
   "source": [
    "### A.3:\n",
    "**insert() adds a new value to the list at a specific index, whereas list[] replaces an existing value at a specific index**"
   ]
  },
  {
   "cell_type": "markdown",
   "metadata": {},
   "source": [
    "Now let's see how we can remove elements from a list"
   ]
  },
  {
   "cell_type": "code",
   "execution_count": 88,
   "metadata": {},
   "outputs": [
    {
     "name": "stdout",
     "output_type": "stream",
     "text": [
      "['red', 'yellow', 'blue', 'purple', 'green', 'pink', 'teal', 'marigold']\n"
     ]
    }
   ],
   "source": [
    "colors = [\"red\", \"blue\", \"yellow\", \"blue\", \"purple\", \"green\", \"pink\", \"teal\", \"marigold\"]\n",
    "colors.remove(\"blue\")\n",
    "print(colors)"
   ]
  },
  {
   "cell_type": "markdown",
   "metadata": {},
   "source": [
    "It looks like the first occurrance of `\"blue\"` in the list was removed! What happens when we try to remove `\"blue\"` again?"
   ]
  },
  {
   "cell_type": "code",
   "execution_count": 89,
   "metadata": {},
   "outputs": [
    {
     "name": "stdout",
     "output_type": "stream",
     "text": [
      "['red', 'yellow', 'purple', 'green', 'pink', 'teal', 'marigold']\n"
     ]
    }
   ],
   "source": [
    "colors.remove(\"blue\")\n",
    "print(colors)"
   ]
  },
  {
   "cell_type": "markdown",
   "metadata": {},
   "source": [
    "No more `\"blue\"` in the colors list! Let's now try to remove the second element of the list."
   ]
  },
  {
   "cell_type": "markdown",
   "metadata": {},
   "source": [
    "The `pop` built-in allows us remove elements based on their index."
   ]
  },
  {
   "cell_type": "code",
   "execution_count": 90,
   "metadata": {},
   "outputs": [
    {
     "name": "stdout",
     "output_type": "stream",
     "text": [
      "['red', 'yellow', 'green', 'pink', 'teal', 'marigold']\n"
     ]
    }
   ],
   "source": [
    "colors.pop(2)\n",
    "print(colors)"
   ]
  },
  {
   "cell_type": "markdown",
   "metadata": {},
   "source": [
    "We can also use `pop` like this:"
   ]
  },
  {
   "cell_type": "code",
   "execution_count": 91,
   "metadata": {},
   "outputs": [
    {
     "name": "stdout",
     "output_type": "stream",
     "text": [
      "['red', 'yellow', 'green', 'pink', 'teal']\n"
     ]
    }
   ],
   "source": [
    "colors.pop()\n",
    "print(colors)"
   ]
  },
  {
   "cell_type": "markdown",
   "metadata": {},
   "source": [
    "### Q.4: What is different about `pop`'s behavior now? What do you think caused this change?"
   ]
  },
  {
   "cell_type": "markdown",
   "metadata": {},
   "source": [
    "### A.4: \n",
    "**When no index is provided, pop() instead removes the last value of the list**"
   ]
  },
  {
   "cell_type": "markdown",
   "metadata": {},
   "source": [
    "Another neat behavior: `pop` can return the value it removes if you assign it to a variable"
   ]
  },
  {
   "cell_type": "code",
   "execution_count": 92,
   "metadata": {},
   "outputs": [
    {
     "name": "stdout",
     "output_type": "stream",
     "text": [
      "teal\n"
     ]
    }
   ],
   "source": [
    "byebye = colors.pop()\n",
    "print(byebye)"
   ]
  },
  {
   "cell_type": "markdown",
   "metadata": {},
   "source": [
    "Finally, we can use the `del` keyword. Rather than being a built-in function, `del` is a keyword in Python, so it has a few magical powers:"
   ]
  },
  {
   "cell_type": "code",
   "execution_count": 93,
   "metadata": {},
   "outputs": [
    {
     "name": "stdout",
     "output_type": "stream",
     "text": [
      "['yellow', 'green', 'pink']\n"
     ]
    }
   ],
   "source": [
    "# remove the first element in colors\n",
    "del colors[0]\n",
    "print(colors)"
   ]
  },
  {
   "cell_type": "markdown",
   "metadata": {},
   "source": [
    "### Q.5: What happens when you run the command `del colors`? Try to guess before running the cell below"
   ]
  },
  {
   "cell_type": "markdown",
   "metadata": {},
   "source": [
    "### A.5:\n",
    "**It fully deletes our colors list, meaning it can no longer be accessed**"
   ]
  },
  {
   "cell_type": "code",
   "execution_count": 95,
   "metadata": {},
   "outputs": [
    {
     "ename": "NameError",
     "evalue": "name 'colors' is not defined",
     "output_type": "error",
     "traceback": [
      "\u001b[1;31m---------------------------------------------------------------------------\u001b[0m",
      "\u001b[1;31mNameError\u001b[0m                                 Traceback (most recent call last)",
      "Cell \u001b[1;32mIn[95], line 1\u001b[0m\n\u001b[1;32m----> 1\u001b[0m \u001b[38;5;28;01mdel\u001b[39;00m \u001b[43mcolors\u001b[49m\n",
      "\u001b[1;31mNameError\u001b[0m: name 'colors' is not defined"
     ]
    }
   ],
   "source": [
    "del colors"
   ]
  },
  {
   "cell_type": "markdown",
   "metadata": {},
   "source": [
    "### Q.6: What do you think will the following cell will output and why?"
   ]
  },
  {
   "cell_type": "markdown",
   "metadata": {},
   "source": [
    "### A.6:\n",
    "**It will throw an error as the colors list no longer exists due to the previous use of del**"
   ]
  },
  {
   "cell_type": "code",
   "execution_count": 96,
   "metadata": {},
   "outputs": [
    {
     "ename": "NameError",
     "evalue": "name 'colors' is not defined",
     "output_type": "error",
     "traceback": [
      "\u001b[1;31m---------------------------------------------------------------------------\u001b[0m",
      "\u001b[1;31mNameError\u001b[0m                                 Traceback (most recent call last)",
      "Cell \u001b[1;32mIn[96], line 1\u001b[0m\n\u001b[1;32m----> 1\u001b[0m \u001b[38;5;28mprint\u001b[39m(\u001b[43mcolors\u001b[49m)\n",
      "\u001b[1;31mNameError\u001b[0m: name 'colors' is not defined"
     ]
    }
   ],
   "source": [
    "print(colors)"
   ]
  }
 ],
 "metadata": {
  "kernelspec": {
   "display_name": "Python 3",
   "language": "python",
   "name": "python3"
  },
  "language_info": {
   "codemirror_mode": {
    "name": "ipython",
    "version": 3
   },
   "file_extension": ".py",
   "mimetype": "text/x-python",
   "name": "python",
   "nbconvert_exporter": "python",
   "pygments_lexer": "ipython3",
   "version": "3.11.4"
  }
 },
 "nbformat": 4,
 "nbformat_minor": 2
}
