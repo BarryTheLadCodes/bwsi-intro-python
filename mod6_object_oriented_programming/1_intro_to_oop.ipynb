{
 "cells": [
  {
   "cell_type": "markdown",
   "metadata": {},
   "source": [
    "# Object Oriented Programming: Introduction to OOP"
   ]
  },
  {
   "cell_type": "markdown",
   "metadata": {},
   "source": [
    "### What is Object Oriented Programming (OOP)?<br>\n",
    "\n",
    "\n",
    "#### Objects\n",
    "An `object` is a collection of data and methods. Objects can be used to represent complex, real-world entities.\n",
    "\n",
    "In Python, all data types are considered as objects, including the types we have already seen like integers, strings, and lists. \n",
    "\n",
    "For example, a `string` object is a collection of `characters` and has methods such as `.upper()` that we can call on the object. Likewise, `lists` are collections of data with methods like `.append()`."
   ]
  },
  {
   "cell_type": "markdown",
   "metadata": {},
   "source": [
    "#### Classes and Instances\n",
    "\n",
    "An object is defined by a **class**. A class is like a blueprint for the object we want to create. \n",
    "\n",
    "An **instance** of an object is a variable of that type. When you create a variable and assign it a value, you are creating an instance of that type (or class). For example, if you create a variable `greeting` and set it to `\"hello\"`, then `greeting` becomes an instance of the `str` class."
   ]
  },
  {
   "cell_type": "code",
   "execution_count": 2,
   "metadata": {
    "ExecuteTime": {
     "end_time": "2024-11-13T21:28:44.142588Z",
     "start_time": "2024-11-13T21:28:44.139804Z"
    }
   },
   "outputs": [
    {
     "name": "stdout",
     "output_type": "stream",
     "text": [
      "<class 'str'>\n",
      "hello world\n"
     ]
    }
   ],
   "source": [
    "# greeting is an instance of the class str (string)\n",
    "greeting = 'hello world'\n",
    "\n",
    "print(type(greeting))\n",
    "print(greeting)"
   ]
  },
  {
   "cell_type": "markdown",
   "metadata": {},
   "source": [
    "## Defining Custom Objects in Python\n",
    "\n",
    "To create a custom object, we use the `class` keyword. The most basic class just has the class name, docstring, and nothing else. We can declare a class like this:"
   ]
  },
  {
   "cell_type": "markdown",
   "metadata": {},
   "source": [
    "```python\n",
    "class ExampleClass:\n",
    "    \"\"\"This is a basic example of a class.\"\"\"\n",
    "    pass\n",
    "```\n",
    "\n",
    "In this example, \n",
    "- `ExampleClass` is the class name.\n",
    "- The docstring `\"\"\"This is a basic example of a class\"\"\"` provides a description of what the class represents.\n",
    "- `pass` is used as a placeholder for where we would put the actual functionality for a class.  \n",
    "\n",
    "#### Best Practices to Use for Creating Classes\n",
    "\n",
    "- Class names use **CamelCase**, meaning each word in the name is capitalized and no underscores are used.\n",
    "- Class names should be descriptive and convey the purpose of the class. Docstrings are written directly under the class declaration and provide further clarity. \n",
    "- Beware of colons and indentation. Anything indented after the colon in the class declaration will be part of the class. \n"
   ]
  },
  {
   "cell_type": "markdown",
   "metadata": {},
   "source": [
    "## Attributes"
   ]
  },
  {
   "cell_type": "markdown",
   "metadata": {},
   "source": [
    "#### What is an attribute? \n",
    "\n",
    "An attribute in a class is a variable that holds data specific to the class. Attributes define the **properties** of an object and help to describe its behavior.\n",
    "\n",
    "There are two types of attributes:\n",
    "1. **Class attributes**: shared across all instances of a class. They are defined within the class declaration. \n",
    "2. **Instance attributes**: unique to a specific instance of an object, usually defined within the `__init__` method (short for \"initialize\"). Instance attributes can differ from object to object. \n",
    "\n",
    "In the example below, `name` and `major` are *class attributes* because they are defined directly in the class and apply to all instances of `PythonInstructor` objects. "
   ]
  },
  {
   "cell_type": "code",
   "execution_count": 3,
   "metadata": {
    "ExecuteTime": {
     "end_time": "2024-11-13T21:23:30.666811Z",
     "start_time": "2024-11-13T21:23:30.663515Z"
    }
   },
   "outputs": [],
   "source": [
    "class PythonInstructor:\n",
    "    \"\"\"Class representing a Python instructor.\"\"\"\n",
    "    name = \"Abby\"\n",
    "    major = \"Computer Science\"\n"
   ]
  },
  {
   "cell_type": "markdown",
   "metadata": {},
   "source": [
    "Now that we have written our PythonINstructor class, we can create instances of it."
   ]
  },
  {
   "cell_type": "code",
   "execution_count": 4,
   "metadata": {
    "ExecuteTime": {
     "end_time": "2024-11-13T21:30:39.732224Z",
     "start_time": "2024-11-13T21:30:39.728493Z"
    }
   },
   "outputs": [
    {
     "name": "stdout",
     "output_type": "stream",
     "text": [
      "Abby teaches Python and their major is Computer Science.\n"
     ]
    }
   ],
   "source": [
    "# `python_teacher` is an instance of our class `PythonInstructor`\n",
    "python_teacher = PythonInstructor()\n",
    "\n",
    "# Get the name and major attributes for our `python_instructor` object\n",
    "python_teacher_name = python_teacher.name\n",
    "python_teacher_major = python_teacher.major\n",
    "\n",
    "print(f\"{python_teacher_name} teaches Python and their major is {python_teacher_major}.\")"
   ]
  },
  {
   "cell_type": "markdown",
   "metadata": {},
   "source": [
    "Notice that nowhere in our code do you use `\"Abby\"` or `\"Computer Science\"` to explicitly set the `python_teacher`'s name or `python_teacher`'s major. Turns out creating the `python_teacher` instance, resulted in us automatically creating the instance attributes `python_teacher.name` and `python_teacher.major`.  "
   ]
  },
  {
   "cell_type": "markdown",
   "metadata": {},
   "source": [
    "Anytime we create an instance of a class, we automatically instantiate all of the class attributes. We can retrieve these values by calling `my_instance_name.class_attribute`"
   ]
  },
  {
   "cell_type": "markdown",
   "metadata": {},
   "source": [
    "## Methods"
   ]
  },
  {
   "cell_type": "markdown",
   "metadata": {},
   "source": [
    "Methods are functions that are associated with an object. They allow us to manipulate an object's data or perform actions on it. We will compare and contrast methods and functions in the independent assignment this week. "
   ]
  },
  {
   "cell_type": "markdown",
   "metadata": {},
   "source": [
    "Methods in our `CodingInstructor` class may allow us to update the programming language(s) an instructor knows, greet students, and grade homework. Think about what these methods may look like in code, we'll code them up in a bit. \n"
   ]
  },
  {
   "cell_type": "markdown",
   "metadata": {},
   "source": [
    "Every Python class has a special method called `__init__`. It runs behind the scenes whenever an object of the class is constructed. Sometimes, you hear this method referred to as a constructor. "
   ]
  },
  {
   "cell_type": "markdown",
   "metadata": {},
   "source": [
    "In this example class the `_init_` method is empty:"
   ]
  },
  {
   "cell_type": "code",
   "execution_count": 5,
   "metadata": {},
   "outputs": [],
   "source": [
    "class ExampleClass:\n",
    "        \"\"\"This is a basic example of a class.\"\"\"\n",
    "        \n",
    "        def __init__():\n",
    "            \"\"\"Do nothing when new instance is created.\"\"\"\n",
    "            pass"
   ]
  },
  {
   "cell_type": "code",
   "execution_count": 6,
   "metadata": {},
   "outputs": [
    {
     "ename": "TypeError",
     "evalue": "ExampleClass.__init__() takes 0 positional arguments but 1 was given",
     "output_type": "error",
     "traceback": [
      "\u001b[0;31m---------------------------------------------------------------------------\u001b[0m",
      "\u001b[0;31mTypeError\u001b[0m                                 Traceback (most recent call last)",
      "Cell \u001b[0;32mIn[6], line 1\u001b[0m\n\u001b[0;32m----> 1\u001b[0m my_example \u001b[38;5;241m=\u001b[39m \u001b[43mExampleClass\u001b[49m\u001b[43m(\u001b[49m\u001b[43m)\u001b[49m\n",
      "\u001b[0;31mTypeError\u001b[0m: ExampleClass.__init__() takes 0 positional arguments but 1 was given"
     ]
    }
   ],
   "source": [
    "my_example = ExampleClass()"
   ]
  },
  {
   "cell_type": "markdown",
   "metadata": {},
   "source": [
    "Hmmm... we defined our `init` function to take no input arguments then called it the same way and yet we get an error message. We will learn why that is in the next section!"
   ]
  },
  {
   "cell_type": "markdown",
   "metadata": {},
   "source": [
    "## Using the `self` Attribute"
   ]
  },
  {
   "cell_type": "markdown",
   "metadata": {},
   "source": [
    "So far our classes have only grouped together variables with hard-coded values. As a user of the class, we had no control over our `python_teacher` instance attributes. All objects of the `PythonInstructor` class would have `name = \"Abby\"` and `major = \"Computer Science\"`. What if we want our code to be generalizable to any coding instructor?"
   ]
  },
  {
   "cell_type": "markdown",
   "metadata": {},
   "source": [
    "In order to do this we are going to need to introduce a new keyword: `self`"
   ]
  },
  {
   "cell_type": "markdown",
   "metadata": {},
   "source": [
    "The `self` keyword is going to allow us to access the class attributes and methods. **This is the key to Object Oriented Programming (OOP)!**"
   ]
  },
  {
   "cell_type": "markdown",
   "metadata": {},
   "source": [
    "Let's see how we can use the `self` keyword to allow the user of our class specify the `name` and `programming_language` the instructor knows. "
   ]
  },
  {
   "cell_type": "code",
   "execution_count": null,
   "metadata": {},
   "outputs": [],
   "source": [
    "class CodingInstructor:\n",
    "    \"\"\"Class representing a coding instructor.\"\"\"\n",
    "    \n",
    "    def __init__(self, name, programming_language):\n",
    "        \"\"\"Store the instructor's name and programming language as instance attributes.\"\"\"\n",
    "        self.name = name\n",
    "        self.programming_language = programming_language\n"
   ]
  },
  {
   "cell_type": "markdown",
   "metadata": {},
   "source": [
    "Now that we have written our `CodingInstructor` class. We can create **instances** of it. "
   ]
  },
  {
   "cell_type": "code",
   "execution_count": 8,
   "metadata": {},
   "outputs": [
    {
     "name": "stdout",
     "output_type": "stream",
     "text": [
      "Shreya teaches Python\n",
      "Peter teaches Julia\n"
     ]
    }
   ],
   "source": [
    "coding_teacher1 = CodingInstructor(\"Shreya\", \"Python\")\n",
    "print(f\"{coding_teacher1.name} teaches {coding_teacher1.programming_language}\")\n",
    "\n",
    "coding_teacher2 = CodingInstructor(\"Peter\", \"Julia\")\n",
    "print(f\"{coding_teacher2.name} teaches {coding_teacher2.programming_language}\")"
   ]
  },
  {
   "cell_type": "markdown",
   "metadata": {},
   "source": [
    "Notice that we did not pass in the `self` keyword when we instantiated `coding_teacher1` and `coding_teacher2`. However, just like with our `PythonInstructor` class from before, creating instances of the class, automatically created instance attributes `coding_teacher1.name`, `coding_teacher2.name` and `coding_teacher1.programming_language`, `coding_teacher2.programming_language`. "
   ]
  },
  {
   "cell_type": "markdown",
   "metadata": {},
   "source": [
    "These attributes were set based on the inputs we passed in when we created the instances. Cool!"
   ]
  },
  {
   "cell_type": "markdown",
   "metadata": {},
   "source": [
    "Let's add more features to our `CodingInstructor` class:"
   ]
  },
  {
   "cell_type": "code",
   "execution_count": 11,
   "metadata": {},
   "outputs": [],
   "source": [
    "class CodingInstructor:\n",
    "    \"\"\"Class representing a coding instructor.\"\"\"\n",
    "    \n",
    "    def __init__(self, name, programming_language):\n",
    "        \"\"\"Store the instructor's name and programming language as attributes.\"\"\"\n",
    "        self.name = name\n",
    "        self.programming_language = programming_language\n",
    "    \n",
    "    def greet_students(self):\n",
    "        \"\"\"Greet the students.\"\"\"\n",
    "        print(\"Hi, this is \" + self.name + \", I hope you are well today!\")"
   ]
  },
  {
   "cell_type": "code",
   "execution_count": 14,
   "metadata": {},
   "outputs": [
    {
     "name": "stdout",
     "output_type": "stream",
     "text": [
      "Hi, this is Shreya, I hope you are well today!\n"
     ]
    }
   ],
   "source": [
    "coding_teacher1 = CodingInstructor(\"Shreya\", \"Python\")\n",
    "coding_teacher1.greet_students()"
   ]
  },
  {
   "cell_type": "markdown",
   "metadata": {},
   "source": [
    "Awesome! The user of our class can greet students without worrying about the technical details of the implementation inside the class. We *abstracted* away those details. This is a ginormous benefit of OOP. "
   ]
  },
  {
   "cell_type": "markdown",
   "metadata": {},
   "source": [
    "### Understanding Checkpoint:\n",
    "\n",
    "Imagine that you are shopping for a car and are considering a Honda, a Toyota, or a Nissan. What would be the class and what would be the instances if we were to model this with OOP?\n"
   ]
  },
  {
   "cell_type": "markdown",
   "metadata": {},
   "source": [
    "### Private vs. Public Methods\n",
    "\n",
    "You've probably noticed that `__init__` looks a bit different from the rest of the methods we've shown you this far. This is because `__init__` is a **magic method**. Python has several other magic methods including the `__len__` method which sorts things like `len(my_list)`.\n",
    "\n",
    "Let's see how the `__str__` method works with built in and custom classes.\n",
    "\n"
   ]
  },
  {
   "cell_type": "code",
   "execution_count": 50,
   "metadata": {},
   "outputs": [
    {
     "name": "stdout",
     "output_type": "stream",
     "text": [
      "5 <class 'str'>\n"
     ]
    }
   ],
   "source": [
    "my_int = 5\n",
    "int_str = str(my_int)\n",
    "print(int_str, type(int_str))"
   ]
  },
  {
   "cell_type": "markdown",
   "metadata": {},
   "source": [
    "You've probably seen these types of calls in previous modules where we were converting numeric variable types to strings! It turns out that, like `len`, this functionality is built on a magic method attached to the variable type. For example, `len` works for list variables, but not for integers.\n",
    "\n",
    "Let's see how this works for custom classes:"
   ]
  },
  {
   "cell_type": "code",
   "execution_count": 70,
   "metadata": {},
   "outputs": [],
   "source": [
    "class MyClass:\n",
    "    \"\"\"\"Class with no __str__ method.\"\"\"\n",
    "    def __init__(self):\n",
    "        pass\n",
    "\n",
    "class MyNewClass:\n",
    "    \"\"\"Class with defined __str__ method.\"\"\"\n",
    "    def __init__(self):\n",
    "        pass\n",
    "     \n",
    "    def __str__(self):\n",
    "        return \"MyNewClass\""
   ]
  },
  {
   "cell_type": "code",
   "execution_count": 71,
   "metadata": {},
   "outputs": [
    {
     "name": "stdout",
     "output_type": "stream",
     "text": [
      "<__main__.MyClass object at 0x10a6b39d0> <class 'str'>\n",
      "MyNewClass <class 'str'>\n"
     ]
    }
   ],
   "source": [
    "my_instance = MyClass()\n",
    "my_instance_str = str(my_instance)\n",
    "print(my_instance_str, type(my_instance_str))\n",
    "\n",
    "my_new_instance = MyNewClass()\n",
    "my_new_instance_str = str(my_new_instance)\n",
    "print(my_new_instance_str, type(my_new_instance_str))"
   ]
  },
  {
   "cell_type": "markdown",
   "metadata": {},
   "source": [
    "Notice that the class without the `__str__` method just returns a string of the instance location by default. On the other hand, the class with the defined `__str__` method prints the string we returned.\n",
    "\n",
    "Please note that magic methods are a bit of an exception to the syntax rules we've seen so far. A short list and demonstration of other magic methods can be found [here](https://realpython.com/python-magic-methods/#initializing-objects-with-__init__)."
   ]
  },
  {
   "cell_type": "markdown",
   "metadata": {},
   "source": [
    "### A few final points on syntax and best practices: \n",
    "\n",
    "- Method names use lower snake case (no spaces) (e.g. `ExampleClass.my_method_name()`)\n",
    "- Syntax for calling a method for a specific instance of our class is `my_instance_name.method_name()` where `my_instance_name` is the variable name that references an object of the class.    \n",
    "- Syntax for calling methods inside a class definition `self.method_name()` where `self` is a special keyword."
   ]
  },
  {
   "cell_type": "code",
   "execution_count": 5,
   "metadata": {},
   "outputs": [
    {
     "data": {
      "text/plain": [
       "9"
      ]
     },
     "execution_count": 5,
     "metadata": {},
     "output_type": "execute_result"
    }
   ],
   "source": [
    "# define class\n",
    "class MyClass:\n",
    "    def __init__(self, attr1, attr2):\n",
    "        self.attr1 = attr1\n",
    "        self.attr2 = attr2\n",
    "        \n",
    "    def method1(self):\n",
    "        return self.attr1 + self.attr2\n",
    "        \n",
    "    def method2(self):\n",
    "        return self.attr1 * self.attr2\n",
    "        \n",
    "# create instances\n",
    "my_class = MyClass(attr1 = 4, attr2 = 5)\n",
    "\n",
    "my_class.method1()\n"
   ]
  }
 ],
 "metadata": {
  "kernelspec": {
   "display_name": "Python 3",
   "language": "python",
   "name": "python3"
  },
  "language_info": {
   "codemirror_mode": {
    "name": "ipython",
    "version": 3
   },
   "file_extension": ".py",
   "mimetype": "text/x-python",
   "name": "python",
   "nbconvert_exporter": "python",
   "pygments_lexer": "ipython3",
   "version": "3.10.8"
  }
 },
 "nbformat": 4,
 "nbformat_minor": 2
}
