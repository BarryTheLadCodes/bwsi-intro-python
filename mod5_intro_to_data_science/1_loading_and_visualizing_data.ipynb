{
 "cells": [
  {
   "cell_type": "markdown",
   "metadata": {},
   "source": [
    "# Introduction to Data Science: Loading and Visualizing Data"
   ]
  },
  {
   "cell_type": "code",
   "execution_count": 1,
   "metadata": {},
   "outputs": [],
   "source": [
    "import numpy as np\n",
    "import pandas as pd\n",
    "import matplotlib.pyplot as plt"
   ]
  },
  {
   "cell_type": "markdown",
   "metadata": {},
   "source": [
    "## File Paths\n",
    "\n",
    "Before we start loading data, we need to learn about file paths. File paths are strings that describe where a file exists on your computer. \n",
    "\n",
    "For example,\n",
    "```python\n",
    "file_path1 = 'my_file1.txt'\n",
    "file_path2 = '/Users/username/my_file2.txt'\n",
    "```\n",
    "`file_path1` refers to the text file `my_file1.txt` in the current directory.\n",
    "\n",
    "`file_path2`refers to the text file `my_file2.txt` located in the user directory (i.e. `/Users/username/`).\n",
    "\n",
    "\n",
    "The following are shorthands for specific locations:\n",
    "\n",
    "|shorthand|meaning|example|\n",
    "|--|--|--|\n",
    "|`.`|current directory| `'./my_file.txt'` is the file named 'my_file.txt' located in your current folder|\n",
    "|`~`|user directory| `'~/my_file.txt'` is the file named 'my_file.txt' located in your user directory|\n"
   ]
  },
  {
   "cell_type": "markdown",
   "metadata": {},
   "source": [
    "#### Debugging FileNotFound\n",
    "\n",
    "Python will raise a `FileNotFound` error if a file does not exist at the given file path. This usually occurs because there is a typo in, so always start by double-checking the file path. `FileNotFound` can also be caused for more complex reasons, such as the file has not been created yet or the user does not have permission to access the file.\n",
    "\n",
    "A few helpful commands:\n",
    "- `pwd`: where you are currently, stands for \"path of working directory\"|\n",
    "- `ls`: lists all of the files and subfoldered in the current directory\n",
    "\n",
    "These commands can be used in Jupyter notebooks or terminal/command prompt if you prefer. "
   ]
  },
  {
   "cell_type": "markdown",
   "metadata": {},
   "source": [
    "## Loading Data"
   ]
  },
  {
   "cell_type": "markdown",
   "metadata": {},
   "source": [
    "### Loading Numeric Data with NumPy"
   ]
  },
  {
   "cell_type": "code",
   "execution_count": 2,
   "metadata": {},
   "outputs": [
    {
     "name": "stdout",
     "output_type": "stream",
     "text": [
      "[ 1.  2.  3.  4.  5.  6.  7.  8.  9. 10.] [ 5.  7.  9. 11. 13. 15. 17. 19. 21. 23.]\n"
     ]
    }
   ],
   "source": [
    "x,y = np.loadtxt('./data/linear_data.txt', unpack=True)\n",
    "print(x, y)"
   ]
  },
  {
   "cell_type": "markdown",
   "metadata": {},
   "source": [
    "#### The Delimiter Argument\n",
    "\n",
    "A `delimiter` in Python is an argument that we pass to NumPy functions working with text files, like `numpy.loadtxt()` or `numpy.genfromtxt()`. \n",
    "\n",
    "The `delimiter` specifies which character separates the values in the text file we are using.\n",
    "\n",
    "Common delimiters include:\n",
    "|Delimiter|Symbol|\n",
    "|------|----|\n",
    "|Commas| `,`|\n",
    "|Tabs|`\\t`|\n",
    "|Spaces| `\" \"`|\n",
    "\n",
    "Here is an example of how we would specify a delimiter when loading data:\n",
    "```python\n",
    "# Our data file has comma separated values (csv), so we specify a comma for our delimiter.\n",
    "data = np.loadtxt('example_data.csv', delimiter=',')\n",
    "```"
   ]
  },
  {
   "cell_type": "markdown",
   "metadata": {},
   "source": [
    "#### What if we want to analyze non-numeric or mixed type data? \n",
    "\n",
    "The `numpy.loadtxt()` function is ideally used with numerical data. For non-numeric or mixed type data, we can use `numpy.genfromtxt()`, which allows us to specify the data type that will be assigned to our data. We pass it the name of our data file, a delimiter, and a data type, `dtype`. If we have multiple data types in our file, we can set `dtype` to `None` and NumPy will figure out the data types for us.\n",
    "\n",
    "In the following examples, note the format of the data when we print it. Look familiar? In these NumPy functions, the data is stored in a NumPy array, which we saw in module 2!  "
   ]
  },
  {
   "cell_type": "code",
   "execution_count": 3,
   "metadata": {},
   "outputs": [
    {
     "name": "stdout",
     "output_type": "stream",
     "text": [
      "[['1.0' '2.0' '3.0']\n",
      " ['cat' 'dog' 'mouse']\n",
      " ['4.0' 'horse' '5.0']]\n"
     ]
    }
   ],
   "source": [
    "# Our file has mixed data types, so we set 'dtype' to None.\n",
    "mixed_data = np.genfromtxt('data/example_mixed_data.csv', delimiter=',', dtype=None, encoding=None)\n",
    "print(mixed_data)"
   ]
  },
  {
   "cell_type": "code",
   "execution_count": 5,
   "metadata": {},
   "outputs": [
    {
     "name": "stdout",
     "output_type": "stream",
     "text": [
      "[[ 1.  2.  3.]\n",
      " [nan nan nan]\n",
      " [ 4. nan  5.]]\n"
     ]
    }
   ],
   "source": [
    "# We haven't specified 'dtype' so our function defaults to numeric data type\n",
    "# Now the strings in our data are classified as 'nan' (not a number)\n",
    "incorrect_mixed_data = np.genfromtxt('data/example_mixed_data.csv', delimiter=',')\n",
    "print(incorrect_mixed_data)"
   ]
  },
  {
   "cell_type": "markdown",
   "metadata": {},
   "source": [
    "## Pandas DataFrames\n",
    "\n",
    "#### Tabular Data with Pandas\n",
    "\n",
    "Pandas DataFrames are an extremely powerful tool for analyzing data!\n",
    "\n",
    "In Pandas, the data is stored in a structure called a `DataFrame` instead of a NumPy array. \n",
    "\n",
    "Not only will Pandas automatically infer our data types, it will also automatically set the names of our columns using the first row of the data file. \n",
    "\n",
    "We can read in our data with Pandas like this:"
   ]
  },
  {
   "cell_type": "code",
   "execution_count": 4,
   "metadata": {},
   "outputs": [],
   "source": [
    "# WINDOWS PATH\n",
    "#staff_data = pd.read_csv('.\\data\\fall2024_python_staff.csv')\n",
    "\n",
    "# MAC PATH\n",
    "staff_data = pd.read_csv('./data/fall2024_python_staff.csv')"
   ]
  },
  {
   "cell_type": "code",
   "execution_count": 5,
   "metadata": {},
   "outputs": [
    {
     "data": {
      "text/html": [
       "<div>\n",
       "<style scoped>\n",
       "    .dataframe tbody tr th:only-of-type {\n",
       "        vertical-align: middle;\n",
       "    }\n",
       "\n",
       "    .dataframe tbody tr th {\n",
       "        vertical-align: top;\n",
       "    }\n",
       "\n",
       "    .dataframe thead th {\n",
       "        text-align: right;\n",
       "    }\n",
       "</style>\n",
       "<table border=\"1\" class=\"dataframe\">\n",
       "  <thead>\n",
       "    <tr style=\"text-align: right;\">\n",
       "      <th></th>\n",
       "      <th>first_name</th>\n",
       "      <th>last_name</th>\n",
       "      <th>major</th>\n",
       "      <th>year</th>\n",
       "      <th>graduated</th>\n",
       "      <th>school</th>\n",
       "      <th>favorite_number</th>\n",
       "    </tr>\n",
       "  </thead>\n",
       "  <tbody>\n",
       "    <tr>\n",
       "      <th>0</th>\n",
       "      <td>Kallee</td>\n",
       "      <td>Gallant</td>\n",
       "      <td>physics</td>\n",
       "      <td>NaN</td>\n",
       "      <td>True</td>\n",
       "      <td>Columbia</td>\n",
       "      <td>9</td>\n",
       "    </tr>\n",
       "    <tr>\n",
       "      <th>1</th>\n",
       "      <td>Abby</td>\n",
       "      <td>Pitcairn</td>\n",
       "      <td>computer science</td>\n",
       "      <td>senior</td>\n",
       "      <td>False</td>\n",
       "      <td>University of Southern Maine</td>\n",
       "      <td>7</td>\n",
       "    </tr>\n",
       "    <tr>\n",
       "      <th>2</th>\n",
       "      <td>Peter</td>\n",
       "      <td>Fitton</td>\n",
       "      <td>physics</td>\n",
       "      <td>junior</td>\n",
       "      <td>False</td>\n",
       "      <td>University of Southern Maine</td>\n",
       "      <td>1</td>\n",
       "    </tr>\n",
       "    <tr>\n",
       "      <th>3</th>\n",
       "      <td>Shreya</td>\n",
       "      <td>Singh</td>\n",
       "      <td>computer science</td>\n",
       "      <td>junior</td>\n",
       "      <td>False</td>\n",
       "      <td>Stanford</td>\n",
       "      <td>3</td>\n",
       "    </tr>\n",
       "    <tr>\n",
       "      <th>4</th>\n",
       "      <td>Silas</td>\n",
       "      <td>Pillsbury</td>\n",
       "      <td>philosophy</td>\n",
       "      <td>NaN</td>\n",
       "      <td>True</td>\n",
       "      <td>St. Johns College</td>\n",
       "      <td>6</td>\n",
       "    </tr>\n",
       "  </tbody>\n",
       "</table>\n",
       "</div>"
      ],
      "text/plain": [
       "  first_name  last_name             major    year  graduated  \\\n",
       "0     Kallee    Gallant           physics     NaN       True   \n",
       "1       Abby   Pitcairn  computer science  senior      False   \n",
       "2      Peter     Fitton           physics  junior      False   \n",
       "3     Shreya      Singh  computer science  junior      False   \n",
       "4      Silas  Pillsbury        philosophy     NaN       True   \n",
       "\n",
       "                         school  favorite_number  \n",
       "0                      Columbia                9  \n",
       "1  University of Southern Maine                7  \n",
       "2  University of Southern Maine                1  \n",
       "3                      Stanford                3  \n",
       "4             St. Johns College                6  "
      ]
     },
     "execution_count": 5,
     "metadata": {},
     "output_type": "execute_result"
    }
   ],
   "source": [
    "staff_data"
   ]
  },
  {
   "cell_type": "markdown",
   "metadata": {},
   "source": [
    "#### Other Pandas Data Functions\n",
    "\n",
    "`pd.read_csv` can work with other types of delimiters, not just commas. To do this, we simply specify what delimiter we are using in the function. In `pd.read_csv`, the delimiter is called `sep`, as in what is separating the data. \n",
    "\n",
    "```python\n",
    "# Specify that our values are separated by tabs.\n",
    "tab_data = pd.read_csv('example_data.tsv', sep='\\t')\n",
    "```"
   ]
  },
  {
   "cell_type": "markdown",
   "metadata": {},
   "source": [
    "Pandas has other functions for parsing more complex file types. For example, when working with Excel spreadsheets, we can use the Pandas function `pd.read_excel` like this:\n",
    "```python\n",
    "# Read in data from an Excel spreadsheet. Specify which page of the spreadsheet.\n",
    "excel_data = pd.read_excel('excel_data.xlsx', sheet_name='Sheet1')\n",
    "```"
   ]
  },
  {
   "cell_type": "markdown",
   "metadata": {},
   "source": [
    "## Indexing DataFrames\n",
    "\n",
    "\n",
    "#### Using `loc` vs. `iloc` \n",
    "\n",
    "There are two ways we can access specific data from our Pandas `DataFrame`:\n",
    "1. `loc`: location of data by column name\n",
    "2. `iloc`: location of data by column index\n",
    "\n",
    "For both `loc` and `iloc`, we specify row then column. This will locate one specific data point in the `DataFrame`."
   ]
  },
  {
   "cell_type": "code",
   "execution_count": 33,
   "metadata": {},
   "outputs": [
    {
     "name": "stdout",
     "output_type": "stream",
     "text": [
      "Using loc: 0             physics\n",
      "1    computer science\n",
      "2             physics\n",
      "3    computer science\n",
      "4          philosophy\n",
      "Name: major, dtype: object\n",
      "Using iloc: philosophy\n"
     ]
    }
   ],
   "source": [
    "# Row 4 is 'Silas', and column 2 is 'major'.\n",
    "row_by_label = staff_data.loc['major']   # data from row index, column name\n",
    "row_by_index = staff_data.iloc[4, 2]        # data from row index, column index\n",
    "\n",
    "print(\"Using loc:\", row_by_label)\n",
    "print(\"Using iloc:\", row_by_index)"
   ]
  },
  {
   "cell_type": "markdown",
   "metadata": {},
   "source": [
    "#### Accessing Data from an Entire Column\n",
    "\n",
    "To access the data from an entire column, we can use dot notation or bracket notation.\n",
    "\n",
    "- **Dot notation**: If a column has a name with no spaces or special characters, we can access it like an attribute.\n",
    "- **Bracket notation**: For any column name, with or without spaces or special characters, we can put the column name in brackets.\n",
    "\n",
    "Let's look at how we would use both these notations to access the first names from our staff data:"
   ]
  },
  {
   "cell_type": "code",
   "execution_count": 9,
   "metadata": {
    "ExecuteTime": {
     "end_time": "2024-11-05T16:44:10.723992Z",
     "start_time": "2024-11-05T16:44:10.721570Z"
    }
   },
   "outputs": [
    {
     "name": "stdout",
     "output_type": "stream",
     "text": [
      "0    Kallee\n",
      "1      Abby\n",
      "2     Peter\n",
      "3    Shreya\n",
      "4     Silas\n",
      "Name: first_name, dtype: object\n",
      "0    Kallee\n",
      "1      Abby\n",
      "2     Peter\n",
      "3    Shreya\n",
      "4     Silas\n",
      "Name: first_name, dtype: object\n"
     ]
    }
   ],
   "source": [
    "# Dot notation\n",
    "first_names_dot = staff_data.first_name\n",
    "print(first_names_dot)\n",
    "\n",
    "# Bracket notation\n",
    "first_names_bracket = staff_data[\"first_name\"]\n",
    "print(first_names_bracket)"
   ]
  },
  {
   "cell_type": "markdown",
   "metadata": {},
   "source": [
    "#### Accessing Data from Multiple Columns\n",
    "\n",
    "To access data from multiple columns, we can use brackets to specify row(s) then column(s). Like arrays, we can specify all rows/columns by using `:` as the index.\n",
    "\n",
    "Let's look at a couple examples. In the first example, we print all staff's first and last names. By putting `:` as our row index, we access all rows. For columns, we specify the column names `first_name` and `last_name` in brackets. In the second example, we want the first and last names for only Peter and Shreya, so we pass `[2, 3]` instead of `:` as rows. \n",
    "\n"
   ]
  },
  {
   "cell_type": "code",
   "execution_count": 10,
   "metadata": {
    "ExecuteTime": {
     "end_time": "2024-11-05T16:43:16.536725Z",
     "start_time": "2024-11-05T16:43:16.531838Z"
    }
   },
   "outputs": [
    {
     "name": "stdout",
     "output_type": "stream",
     "text": [
      "  first_name  last_name\n",
      "0     Kallee    Gallant\n",
      "1       Abby   Pitcairn\n",
      "2      Peter     Fitton\n",
      "3     Shreya      Singh\n",
      "4      Silas  Pillsbury\n"
     ]
    }
   ],
   "source": [
    "# Access all full names from staff data using 'loc'\n",
    "full_names = staff_data.loc[:, [\"first_name\", \"last_name\"]]\n",
    "print(full_names)"
   ]
  },
  {
   "cell_type": "code",
   "execution_count": 11,
   "metadata": {
    "ExecuteTime": {
     "end_time": "2024-11-05T16:43:45.707839Z",
     "start_time": "2024-11-05T16:43:45.703081Z"
    }
   },
   "outputs": [
    {
     "name": "stdout",
     "output_type": "stream",
     "text": [
      "  first_name last_name\n",
      "2      Peter    Fitton\n",
      "3     Shreya     Singh\n"
     ]
    }
   ],
   "source": [
    "# Access full names of two specific staff using 'loc'\n",
    "specific_full_names = staff_data.loc[[2,3], [\"first_name\", \"last_name\"]]\n",
    "print(specific_full_names)"
   ]
  },
  {
   "cell_type": "markdown",
   "metadata": {},
   "source": [
    "Examples of additional functionality can be found [here](https://pandas.pydata.org/docs/user_guide/index.html#user-guide)!"
   ]
  },
  {
   "cell_type": "markdown",
   "metadata": {},
   "source": [
    "## Visualizing Data with Matplotlib"
   ]
  },
  {
   "cell_type": "markdown",
   "metadata": {},
   "source": [
    "At the begining of this notebook we loaded `x` and `y` from `\".\\data\\linear_data.txt\"` with `numpy`.\n",
    "\n",
    "We can use the plotting library `matplotlib` to visualize this data."
   ]
  },
  {
   "cell_type": "code",
   "execution_count": 7,
   "metadata": {},
   "outputs": [
    {
     "data": {
      "image/png": "[encoded data removed]",
      "text/plain": [
       "<Figure size 640x480 with 1 Axes>"
      ]
     },
     "metadata": {},
     "output_type": "display_data"
    }
   ],
   "source": [
    "plt.plot(x,y)\n",
    "plt.ylabel(\"y\")\n",
    "plt.xlabel(\"x\")\n",
    "plt.show()"
   ]
  },
  {
   "cell_type": "markdown",
   "metadata": {},
   "source": [
    "Note the use of `plt.show`. It is best practice to call `show` whenever you want to display a plot to the screen.\n",
    "\n",
    "We can also plot multiple lines on one plot with `plt.plot`. Simply call the function again or pass more arguments for more lines!"
   ]
  },
  {
   "cell_type": "code",
   "execution_count": 8,
   "metadata": {},
   "outputs": [
    {
     "data": {
      "image/png": "[encoded data removed]",
      "text/plain": [
       "<Figure size 640x480 with 1 Axes>"
      ]
     },
     "metadata": {},
     "output_type": "display_data"
    }
   ],
   "source": [
    "plt.plot(x,y)\n",
    "plt.plot(x,y**2, x,0.1*y**3)\n",
    "plt.show()"
   ]
  },
  {
   "cell_type": "markdown",
   "metadata": {},
   "source": [
    "Not only can we plot multiple \"lines\" of data to a single figure, we can also use functions to generate the values we want.\n",
    "\n",
    "Let's define a function $f(x)=(x-2)^3+3$ and plot the output of this with a single call to `plt.plot`."
   ]
  },
  {
   "cell_type": "code",
   "execution_count": 9,
   "metadata": {},
   "outputs": [],
   "source": [
    "def f(x):\n",
    "    return (x-2)**3 + 3"
   ]
  },
  {
   "cell_type": "code",
   "execution_count": 10,
   "metadata": {},
   "outputs": [
    {
     "data": {
      "image/png": "[encoded data removed]",
      "text/plain": [
       "<Figure size 640x480 with 1 Axes>"
      ]
     },
     "metadata": {},
     "output_type": "display_data"
    }
   ],
   "source": [
    "x_vals = np.arange(0., 4., 0.2)\n",
    "\n",
    "plt.plot(x_vals,f(x_vals))\n",
    "plt.show()"
   ]
  },
  {
   "cell_type": "markdown",
   "metadata": {},
   "source": [
    "Matplotlib can be used to create scatter charts, histograms, and more! Examples and documentation can be found [here](https://matplotlib.org/stable/index.html)"
   ]
  },
  {
   "cell_type": "markdown",
   "metadata": {},
   "source": [
    "## Lambda Functions"
   ]
  },
  {
   "cell_type": "markdown",
   "metadata": {},
   "source": [
    "Another useful tool is a **lambda function**\n",
    "\n",
    "Syntax: lambda *arguments* : *expression*\n",
    "\n",
    "Use lambda functions when a simple function is required for a short period of time.\n",
    "\n",
    "We can use a lambda function to reproduce the previous function `f(x)` given that only one expression needs to be evaluated."
   ]
  },
  {
   "cell_type": "code",
   "execution_count": 11,
   "metadata": {},
   "outputs": [
    {
     "data": {
      "image/png": "[encoded data removed]",
      "text/plain": [
       "<Figure size 640x480 with 1 Axes>"
      ]
     },
     "metadata": {},
     "output_type": "display_data"
    }
   ],
   "source": [
    "g = lambda x : (x-2)**3 + 3\n",
    "\n",
    "plt.plot(x_vals, g(x_vals))\n",
    "plt.show()"
   ]
  },
  {
   "cell_type": "markdown",
   "metadata": {},
   "source": [
    "## Applying Functions to DataFrames\n",
    "First, let's store `x_vals`, `f(x_vals)`, and `g(x_vals)` in a DataFrame with the appropriate column names:"
   ]
  },
  {
   "cell_type": "code",
   "execution_count": 12,
   "metadata": {},
   "outputs": [],
   "source": [
    "my_df = pd.DataFrame(np.column_stack([x_vals, f(x_vals), g(x_vals)]), columns=[\"x_vals\", \"f(x)\", \"g(x)\"])"
   ]
  },
  {
   "cell_type": "markdown",
   "metadata": {},
   "source": [
    "Suppose we want to define a new function `h(x)` then calculate `h(x_vals)` and store the result in a new column. We define `h(x)` as a simple function below:"
   ]
  },
  {
   "cell_type": "code",
   "execution_count": 13,
   "metadata": {},
   "outputs": [],
   "source": [
    "h = lambda x: x + 3"
   ]
  },
  {
   "cell_type": "markdown",
   "metadata": {},
   "source": [
    "We can predict the expected output by looking at remembering what `x_vals` were stored in `my_df` by calling the column:"
   ]
  },
  {
   "cell_type": "code",
   "execution_count": 14,
   "metadata": {},
   "outputs": [
    {
     "data": {
      "text/plain": [
       "0     0.0\n",
       "1     0.2\n",
       "2     0.4\n",
       "3     0.6\n",
       "4     0.8\n",
       "5     1.0\n",
       "6     1.2\n",
       "7     1.4\n",
       "8     1.6\n",
       "9     1.8\n",
       "10    2.0\n",
       "11    2.2\n",
       "12    2.4\n",
       "13    2.6\n",
       "14    2.8\n",
       "15    3.0\n",
       "16    3.2\n",
       "17    3.4\n",
       "18    3.6\n",
       "19    3.8\n",
       "Name: x_vals, dtype: float64"
      ]
     },
     "execution_count": 14,
     "metadata": {},
     "output_type": "execute_result"
    }
   ],
   "source": [
    "my_df.x_vals"
   ]
  },
  {
   "cell_type": "markdown",
   "metadata": {},
   "source": [
    "**Note**: accessing a single column like this will return it as a `pd.Series`. This is the Pandas equivalent of a vector."
   ]
  },
  {
   "cell_type": "markdown",
   "metadata": {},
   "source": [
    "Doing some quick math we expect that applying `h` to our x values should return `[3.0,  3.2,  3.4, ...]` etc.\n",
    "\n",
    "The code below applies the function `h` to each element in our column `x_vals` then saves the result into a new column in `my_df` called `h(x)`:"
   ]
  },
  {
   "cell_type": "code",
   "execution_count": 15,
   "metadata": {},
   "outputs": [],
   "source": [
    "my_df[\"h(x)\"] = my_df[\"x_vals\"].apply(h)"
   ]
  },
  {
   "cell_type": "markdown",
   "metadata": {},
   "source": [
    "We can also check that our DataFrame has the new column as expected by either displaying the whole DataFrame or printing the list of column names:"
   ]
  },
  {
   "cell_type": "code",
   "execution_count": 17,
   "metadata": {},
   "outputs": [
    {
     "data": {
      "text/html": [
       "<div>\n",
       "<style scoped>\n",
       "    .dataframe tbody tr th:only-of-type {\n",
       "        vertical-align: middle;\n",
       "    }\n",
       "\n",
       "    .dataframe tbody tr th {\n",
       "        vertical-align: top;\n",
       "    }\n",
       "\n",
       "    .dataframe thead th {\n",
       "        text-align: right;\n",
       "    }\n",
       "</style>\n",
       "<table border=\"1\" class=\"dataframe\">\n",
       "  <thead>\n",
       "    <tr style=\"text-align: right;\">\n",
       "      <th></th>\n",
       "      <th>x_vals</th>\n",
       "      <th>f(x)</th>\n",
       "      <th>g(x)</th>\n",
       "      <th>h(x)</th>\n",
       "    </tr>\n",
       "  </thead>\n",
       "  <tbody>\n",
       "    <tr>\n",
       "      <th>0</th>\n",
       "      <td>0.0</td>\n",
       "      <td>-5.000</td>\n",
       "      <td>-5.000</td>\n",
       "      <td>3.0</td>\n",
       "    </tr>\n",
       "    <tr>\n",
       "      <th>1</th>\n",
       "      <td>0.2</td>\n",
       "      <td>-2.832</td>\n",
       "      <td>-2.832</td>\n",
       "      <td>3.2</td>\n",
       "    </tr>\n",
       "    <tr>\n",
       "      <th>2</th>\n",
       "      <td>0.4</td>\n",
       "      <td>-1.096</td>\n",
       "      <td>-1.096</td>\n",
       "      <td>3.4</td>\n",
       "    </tr>\n",
       "    <tr>\n",
       "      <th>3</th>\n",
       "      <td>0.6</td>\n",
       "      <td>0.256</td>\n",
       "      <td>0.256</td>\n",
       "      <td>3.6</td>\n",
       "    </tr>\n",
       "    <tr>\n",
       "      <th>4</th>\n",
       "      <td>0.8</td>\n",
       "      <td>1.272</td>\n",
       "      <td>1.272</td>\n",
       "      <td>3.8</td>\n",
       "    </tr>\n",
       "    <tr>\n",
       "      <th>5</th>\n",
       "      <td>1.0</td>\n",
       "      <td>2.000</td>\n",
       "      <td>2.000</td>\n",
       "      <td>4.0</td>\n",
       "    </tr>\n",
       "    <tr>\n",
       "      <th>6</th>\n",
       "      <td>1.2</td>\n",
       "      <td>2.488</td>\n",
       "      <td>2.488</td>\n",
       "      <td>4.2</td>\n",
       "    </tr>\n",
       "    <tr>\n",
       "      <th>7</th>\n",
       "      <td>1.4</td>\n",
       "      <td>2.784</td>\n",
       "      <td>2.784</td>\n",
       "      <td>4.4</td>\n",
       "    </tr>\n",
       "    <tr>\n",
       "      <th>8</th>\n",
       "      <td>1.6</td>\n",
       "      <td>2.936</td>\n",
       "      <td>2.936</td>\n",
       "      <td>4.6</td>\n",
       "    </tr>\n",
       "    <tr>\n",
       "      <th>9</th>\n",
       "      <td>1.8</td>\n",
       "      <td>2.992</td>\n",
       "      <td>2.992</td>\n",
       "      <td>4.8</td>\n",
       "    </tr>\n",
       "    <tr>\n",
       "      <th>10</th>\n",
       "      <td>2.0</td>\n",
       "      <td>3.000</td>\n",
       "      <td>3.000</td>\n",
       "      <td>5.0</td>\n",
       "    </tr>\n",
       "    <tr>\n",
       "      <th>11</th>\n",
       "      <td>2.2</td>\n",
       "      <td>3.008</td>\n",
       "      <td>3.008</td>\n",
       "      <td>5.2</td>\n",
       "    </tr>\n",
       "    <tr>\n",
       "      <th>12</th>\n",
       "      <td>2.4</td>\n",
       "      <td>3.064</td>\n",
       "      <td>3.064</td>\n",
       "      <td>5.4</td>\n",
       "    </tr>\n",
       "    <tr>\n",
       "      <th>13</th>\n",
       "      <td>2.6</td>\n",
       "      <td>3.216</td>\n",
       "      <td>3.216</td>\n",
       "      <td>5.6</td>\n",
       "    </tr>\n",
       "    <tr>\n",
       "      <th>14</th>\n",
       "      <td>2.8</td>\n",
       "      <td>3.512</td>\n",
       "      <td>3.512</td>\n",
       "      <td>5.8</td>\n",
       "    </tr>\n",
       "    <tr>\n",
       "      <th>15</th>\n",
       "      <td>3.0</td>\n",
       "      <td>4.000</td>\n",
       "      <td>4.000</td>\n",
       "      <td>6.0</td>\n",
       "    </tr>\n",
       "    <tr>\n",
       "      <th>16</th>\n",
       "      <td>3.2</td>\n",
       "      <td>4.728</td>\n",
       "      <td>4.728</td>\n",
       "      <td>6.2</td>\n",
       "    </tr>\n",
       "    <tr>\n",
       "      <th>17</th>\n",
       "      <td>3.4</td>\n",
       "      <td>5.744</td>\n",
       "      <td>5.744</td>\n",
       "      <td>6.4</td>\n",
       "    </tr>\n",
       "    <tr>\n",
       "      <th>18</th>\n",
       "      <td>3.6</td>\n",
       "      <td>7.096</td>\n",
       "      <td>7.096</td>\n",
       "      <td>6.6</td>\n",
       "    </tr>\n",
       "    <tr>\n",
       "      <th>19</th>\n",
       "      <td>3.8</td>\n",
       "      <td>8.832</td>\n",
       "      <td>8.832</td>\n",
       "      <td>6.8</td>\n",
       "    </tr>\n",
       "  </tbody>\n",
       "</table>\n",
       "</div>"
      ],
      "text/plain": [
       "    x_vals   f(x)   g(x)  h(x)\n",
       "0      0.0 -5.000 -5.000   3.0\n",
       "1      0.2 -2.832 -2.832   3.2\n",
       "2      0.4 -1.096 -1.096   3.4\n",
       "3      0.6  0.256  0.256   3.6\n",
       "4      0.8  1.272  1.272   3.8\n",
       "5      1.0  2.000  2.000   4.0\n",
       "6      1.2  2.488  2.488   4.2\n",
       "7      1.4  2.784  2.784   4.4\n",
       "8      1.6  2.936  2.936   4.6\n",
       "9      1.8  2.992  2.992   4.8\n",
       "10     2.0  3.000  3.000   5.0\n",
       "11     2.2  3.008  3.008   5.2\n",
       "12     2.4  3.064  3.064   5.4\n",
       "13     2.6  3.216  3.216   5.6\n",
       "14     2.8  3.512  3.512   5.8\n",
       "15     3.0  4.000  4.000   6.0\n",
       "16     3.2  4.728  4.728   6.2\n",
       "17     3.4  5.744  5.744   6.4\n",
       "18     3.6  7.096  7.096   6.6\n",
       "19     3.8  8.832  8.832   6.8"
      ]
     },
     "metadata": {},
     "output_type": "display_data"
    },
    {
     "name": "stdout",
     "output_type": "stream",
     "text": [
      "['x_vals', 'f(x)', 'g(x)', 'h(x)']\n"
     ]
    }
   ],
   "source": [
    "display(my_df)\n",
    "print(my_df.columns.to_list())"
   ]
  },
  {
   "cell_type": "markdown",
   "metadata": {},
   "source": [
    "**Note**: `df.columns` will return type Index. We can convert it to a list for a cleaner output by calling `to_list`."
   ]
  },
  {
   "cell_type": "markdown",
   "metadata": {},
   "source": [
    "## Plotting with Pandas\n",
    "\n",
    "If you want to plot the data contained in a DataFrame, we can do so by calling `df.plot`, `df.plot.scatter` etc. This can be helpful if you want to index the data using the column names rather than having to call `df.x_column` and `df.y_column` separately. \n",
    "\n",
    "### Advantages\n",
    "The built in plotting for DataFrames comes with some nice formatting including automated legends \n",
    "\n",
    "### Disadvantages\n",
    "- Pandas only has options for the most common plot types (see list of options [here](https://pandas.pydata.org/docs/user_guide/visualization.html#visualization-scatter))\n",
    "- `df.hist` can only handle numeric and datetime data, whereas matplotlib can handle categorical data too (see last example!)"
   ]
  },
  {
   "cell_type": "code",
   "execution_count": 18,
   "metadata": {},
   "outputs": [
    {
     "data": {
      "image/png": "[encoded data removed]",
      "text/plain": [
       "<Figure size 640x480 with 1 Axes>"
      ]
     },
     "metadata": {},
     "output_type": "display_data"
    },
    {
     "data": {
      "image/png": "[encoded data removed]",
      "text/plain": [
       "<Figure size 640x480 with 1 Axes>"
      ]
     },
     "metadata": {},
     "output_type": "display_data"
    }
   ],
   "source": [
    "# Note: each call to plot using \n",
    "# pandas will create a new figure!\n",
    "my_df.plot.scatter(\"x_vals\", \"f(x)\")      # values from single columns on one plot\n",
    "my_df.plot(\"x_vals\", [\"g(x)\", \"h(x)\"])    # values from multiple columns on one plot\n",
    "plt.show()"
   ]
  },
  {
   "cell_type": "code",
   "execution_count": 19,
   "metadata": {},
   "outputs": [
    {
     "data": {
      "image/png": "[encoded data removed]",
      "text/plain": [
       "<Figure size 640x480 with 1 Axes>"
      ]
     },
     "metadata": {},
     "output_type": "display_data"
    }
   ],
   "source": [
    "# This throws an error because the values in \"major\" are strings\n",
    "# staff_data.hist(\"major\") \n",
    "\n",
    "# matplotlib can handle string valued data\n",
    "plt.hist(staff_data.major)\n",
    "plt.title(\"Distribution of Staff Majors\")\n",
    "plt.ylabel(\"Number of Staff Members\")\n",
    "plt.xlabel(\"Major\")\n",
    "plt.show()"
   ]
  }
 ],
 "metadata": {
  "kernelspec": {
   "display_name": "Python 3",
   "language": "python",
   "name": "python3"
  },
  "language_info": {
   "codemirror_mode": {
    "name": "ipython",
    "version": 3
   },
   "file_extension": ".py",
   "mimetype": "text/x-python",
   "name": "python",
   "nbconvert_exporter": "python",
   "pygments_lexer": "ipython3",
   "version": "3.10.8"
  }
 },
 "nbformat": 4,
 "nbformat_minor": 2
}
