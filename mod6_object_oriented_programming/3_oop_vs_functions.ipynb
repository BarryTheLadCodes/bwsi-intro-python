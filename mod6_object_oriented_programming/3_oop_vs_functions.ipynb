{
 "cells": [
  {
   "cell_type": "markdown",
   "metadata": {},
   "source": [
    "# Object Oriented Programming: OOP vs. Functions"
   ]
  },
  {
   "cell_type": "markdown",
   "metadata": {},
   "source": [
    "### Object Oriented Programming (OOP) \n",
    "\n",
    "Best used in applications with complex interactions between different objects. This paradigm focuses on modeling real-world entities as objects. Stored data and access to that data is bundled with the the behavior (methods) for that object.\n",
    "\n",
    "**When to use:** When modeling complex systems with clear entities and relationships."
   ]
  },
  {
   "cell_type": "markdown",
   "metadata": {},
   "source": [
    "### Functional Programming (FP) \n",
    "Best used in applications that are data intensive and require a lot of transformations of that data. With FP, functions are treated as *first-class citizens* meaning that they can be passed as arguments as well as returned from functions. The functions and the data are treated separately.\n",
    "\n",
    "An example would be a function that returns an acceleration and velocity function given the state of a system. This is useful in physics.\n",
    "\n",
    "**When to use:** When focusing on a single task like data manipulation, transformations, and avoiding side effects."
   ]
  },
  {
   "cell_type": "markdown",
   "metadata": {},
   "source": [
    "### Q.1 Hypothesize and describe 1-2 examples of use cases for OOP."
   ]
  },
  {
   "cell_type": "markdown",
   "metadata": {},
   "source": [
    "### A.1 Listing products, where each one needs their own price, description, etc...\n",
    "### A multiplayer game where each player has different stats, weapons, etc..."
   ]
  },
  {
   "cell_type": "markdown",
   "metadata": {},
   "source": [
    "### Q.2 Hypothesize and describe 1-2 examples of use cases for FP."
   ]
  },
  {
   "cell_type": "markdown",
   "metadata": {},
   "source": [
    "### A.2 Data processing, like a Kalman filter for a gyroscope/accelerometer\n",
    "### Finance calculations"
   ]
  },
  {
   "cell_type": "markdown",
   "metadata": {},
   "source": [
    "## One Problem, Two Implementations"
   ]
  },
  {
   "cell_type": "markdown",
   "metadata": {},
   "source": [
    "Python allows you to mix and match paradigms. The following two questions will explore how you can use the different paradigms to obtain the same results.\n",
    "\n",
    "Please test your soluttions using a rectangle with $l = 10$ and $w = 5$."
   ]
  },
  {
   "cell_type": "markdown",
   "metadata": {},
   "source": [
    "### Q.3 Using OOP, compute the area and perimeter of the rectangle described above."
   ]
  },
  {
   "cell_type": "code",
   "execution_count": 1,
   "metadata": {},
   "outputs": [
    {
     "name": "stdout",
     "output_type": "stream",
     "text": [
      "50 30\n"
     ]
    }
   ],
   "source": [
    "class Rectangle:\n",
    "    \"\"\"A class to represent a rectangle\"\"\"\n",
    "    def __init__(self, length, width):\n",
    "        self.length = length\n",
    "        self.width = width\n",
    "\n",
    "    def area(self):\n",
    "        return self.length * self.width\n",
    "    \n",
    "    def perimeter(self):\n",
    "        return 2 * (self.length + self.width)\n",
    "    \n",
    "rect1 = Rectangle(10, 5)\n",
    "print(rect1.area(), rect1.perimeter())"
   ]
  },
  {
   "cell_type": "markdown",
   "metadata": {},
   "source": [
    "### Q.4 Using FP, compute the area and perimeter of the rectangle described above."
   ]
  },
  {
   "cell_type": "code",
   "execution_count": 2,
   "metadata": {},
   "outputs": [
    {
     "name": "stdout",
     "output_type": "stream",
     "text": [
      "50 30\n"
     ]
    }
   ],
   "source": [
    "def rect_area(length, width):\n",
    "    return length * width\n",
    "\n",
    "def rect_perimeter(length, width):\n",
    "    return 2 * (length + width)\n",
    "\n",
    "print(rect_area(10, 5), rect_perimeter(10, 5))"
   ]
  },
  {
   "cell_type": "markdown",
   "metadata": {},
   "source": [
    "### Initializing Attributes in `init`\n",
    "\n",
    "One of the main advantages of OOP is the ability to call methods and store their results as attributes for later. We can also leverage the fact that classes have access to all of their methods to make these variable assignments simpler. \n",
    "\n",
    "Let's explore how we can save the outputs from `calculate_area` and `calculate_perimeter` as attributes to access later."
   ]
  },
  {
   "cell_type": "markdown",
   "metadata": {},
   "source": [
    "### Q.5 Copy your solution from Q.3, then modify it such that `self.area` and `self.perimeter` are set inside the `init` method using the appropriate methods"
   ]
  },
  {
   "cell_type": "code",
   "execution_count": 3,
   "metadata": {},
   "outputs": [],
   "source": [
    "class Rectangle:\n",
    "    \"\"\"A class to represent a rectangle\"\"\"\n",
    "    def __init__(self, length, width):\n",
    "        self.length = length\n",
    "        self.width = width\n",
    "        self.area = self.length * self.width\n",
    "        self.perimeter = 2 * (self.length + self.width)"
   ]
  },
  {
   "cell_type": "code",
   "execution_count": 4,
   "metadata": {},
   "outputs": [
    {
     "name": "stdout",
     "output_type": "stream",
     "text": [
      "0.36\n",
      "0.36\n"
     ]
    }
   ],
   "source": [
    "progress_time = [\n",
    " ('09:19', 0),\n",
    " ('09:20', 0.1),\n",
    " ('09:21', 0.22),\n",
    " ('09:22', 0.37),\n",
    " ('09:23', 0.51),\n",
    " ('09:24', 0.56),\n",
    " ('09:25', 0.73),\n",
    " ('09:26', 1) ]\n",
    "def progress_done_in_interval(start_time, end_time, progress_time): \n",
    "    start_progress = 0\n",
    "    end_progress = 0\n",
    "    for entry in progress_time:\n",
    "        if entry[0] == start_time:\n",
    "            start_progress += entry[1]\n",
    "        if entry[0] == end_time:\n",
    "            end_progress += entry[1]\n",
    "    return end_progress - start_progress\n",
    "\n",
    "class ProgressDoneInInterval:\n",
    "    def __init__(self, start_time, end_time, progress_time):\n",
    "        self.start_time = start_time\n",
    "        self.end_time = end_time\n",
    "        self.progress_time = progress_time\n",
    "        self.start_progress = 0\n",
    "        self.end_progress = 0\n",
    "\n",
    "    def main(self):\n",
    "        for entry in progress_time:\n",
    "            if entry[0] == self.start_time:\n",
    "                self.start_progress += entry[1]\n",
    "            if entry[0] == self.end_time:\n",
    "                self.end_progress += entry[1]\n",
    "        return self.end_progress - self.start_progress\n",
    "\n",
    "print(progress_done_in_interval('09:22','09:25',progress_time))\n",
    "progress_checker = ProgressDoneInInterval('09:22','09:25',progress_time)\n",
    "print(progress_checker.main())"
   ]
  }
 ],
 "metadata": {
  "kernelspec": {
   "display_name": "Python 3",
   "language": "python",
   "name": "python3"
  },
  "language_info": {
   "codemirror_mode": {
    "name": "ipython",
    "version": 3
   },
   "file_extension": ".py",
   "mimetype": "text/x-python",
   "name": "python",
   "nbconvert_exporter": "python",
   "pygments_lexer": "ipython3",
   "version": "3.10.8"
  }
 },
 "nbformat": 4,
 "nbformat_minor": 2
}
