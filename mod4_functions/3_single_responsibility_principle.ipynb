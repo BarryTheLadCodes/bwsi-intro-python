{
 "cells": [
  {
   "cell_type": "markdown",
   "metadata": {},
   "source": [
    "# Functions: Single Responsibility Principle"
   ]
  },
  {
   "cell_type": "markdown",
   "metadata": {},
   "source": [
    "Please follow the instructions and uncomment the skeleton code as necessary.\n",
    "\n",
    "This assignment is due in addition to the small group assignment before the next class"
   ]
  },
  {
   "cell_type": "markdown",
   "metadata": {},
   "source": [
    "## Planning Weekday Meals\n",
    "\n",
    "Suppose you are a busy student and you don't have time to go grocery shopping during the week. This means that you need to have enough food in your fridge and pantry to get through the week. You'll also need to be able to find recipes that you can cook using the ingredients you have. \n",
    "\n",
    "The following questions will walk you through how we might model this with code!"
   ]
  },
  {
   "cell_type": "markdown",
   "metadata": {},
   "source": [
    "### Fridge and Pantry Inventory\n",
    "Below we have a list of the items in our fridge and pantry"
   ]
  },
  {
   "cell_type": "code",
   "execution_count": 174,
   "metadata": {},
   "outputs": [],
   "source": [
    "# inventory\n",
    "my_fridge = [\"eggs\", \"milk\", \"blueberries\", \"ketchup\", \"leftover pizza\", \"cheese\", \"butter\", \"yogurt\", \"strawberries\", \"applesauce\", \"jam\", \"curry paste\"]\n",
    "my_pantry = [\"flour\", \"chocolate chips\", \"sugar\", \"oatmeal\", \"goldfish\", \"seaweed\", \"pasta\", \"peanut butter\", \"nutella\", \"crackers\", \"bread\", \"rice\", \"coconut milk\"]"
   ]
  },
  {
   "cell_type": "markdown",
   "metadata": {},
   "source": [
    "### Meal Options\n",
    "We also need to define some meals to pick from. We will use a new variable type called a **dictionary**. Dictionaries are great for indexing information quickly based on either the key or the value. \n",
    "\n",
    "In this case, using a dictionary to store our meal options allows us to map the name of a meal to its recipe:"
   ]
  },
  {
   "cell_type": "code",
   "execution_count": 175,
   "metadata": {},
   "outputs": [],
   "source": [
    "muffin_recipe = [\"flour\", \"sugar\", \"milk\", \"butter\", \"blueberries\"]\n",
    "mac_and_cheese_recipe = [\"milk\", \"butter\", \"cheese\", \"pasta\"]\n",
    "shrimp_curry_recipe = [\"shrimp\", \"rice\", \"coconut milk\", \"curry paste\"]\n",
    "fried_rice_recipe = [\"soy sauce\", \"rice\", \"egg\", \"peas\"]\n",
    "\n",
    "meal_options = {\"muffins\": muffin_recipe, \n",
    "                \"mac and cheese\": mac_and_cheese_recipe, \n",
    "                \"shrimp curry\": shrimp_curry_recipe,\n",
    "                \"fried_rice\": fried_rice_recipe}"
   ]
  },
  {
   "cell_type": "markdown",
   "metadata": {},
   "source": [
    "### Q.1 Please fill in the function below such that the test case outputs `True`"
   ]
  },
  {
   "cell_type": "code",
   "execution_count": 176,
   "metadata": {},
   "outputs": [],
   "source": [
    "def check_recipe_ingredients(recipe, fridge, pantry):\n",
    "    \"\"\"Returns bool indicating if all igredients in the recipe are available in the fridge or pantry.\"\"\"\n",
    "    # create list of available ingredients\n",
    "    available_ingredients = fridge + pantry\n",
    "\n",
    "    # check all ingredients in recipe are in the fridge or pantry\n",
    "    for ingredient in recipe:\n",
    "        for i,avail_ingredient in enumerate(available_ingredients):\n",
    "            if ingredient == avail_ingredient:\n",
    "                break\n",
    "        if i == len(available_ingredients)-1:\n",
    "            return False\n",
    "    return True"
   ]
  },
  {
   "cell_type": "markdown",
   "metadata": {},
   "source": [
    "You can check that your solution works as expected by running the following test cases:"
   ]
  },
  {
   "cell_type": "code",
   "execution_count": 177,
   "metadata": {},
   "outputs": [
    {
     "name": "stdout",
     "output_type": "stream",
     "text": [
      "We can make muffins? True\n",
      "We can make fried rice? False\n"
     ]
    }
   ],
   "source": [
    "# TEST CASES-- DO NOT CHANGE!\n",
    "all_muffin_ingredients = check_recipe_ingredients(muffin_recipe, my_fridge, my_pantry)\n",
    "all_fried_rice_ingredients = check_recipe_ingredients(fried_rice_recipe, my_fridge, my_pantry)\n",
    "\n",
    "print(f\"We can make muffins? {all_muffin_ingredients}\")             # EXPECTED ANSWER: TRUE\n",
    "print(f\"We can make fried rice? {all_fried_rice_ingredients}\")      # EXPECTED ANSWER: FALSE"
   ]
  },
  {
   "cell_type": "markdown",
   "metadata": {},
   "source": [
    "Now we have a dictionary of some meals we'd like to eat mapped to their recipe! \n",
    "\n",
    "### Q.2 Please write a function to check which meals we can cook with the items available in our kitchen:"
   ]
  },
  {
   "cell_type": "code",
   "execution_count": 178,
   "metadata": {},
   "outputs": [],
   "source": [
    "def get_valid_meal_options(meal_options, fridge, pantry):\n",
    "    \"\"\"Get list of meals that can be cooked from the fridge and pantry.\"\"\"\n",
    "    valid_meal_options = []\n",
    "    for meal, recipe in meal_options.items():\n",
    "        if check_recipe_ingredients(recipe, fridge, pantry):\n",
    "            valid_meal_options.append(meal)\n",
    "\n",
    "    return valid_meal_options\n"
   ]
  },
  {
   "cell_type": "markdown",
   "metadata": {},
   "source": [
    "Lastly, we need two more functions before we can run `plan_weekday_meals`: \n",
    "1. `pick_meal_from_options`: randomly select a recipe from the list of `valid_meal_options`\n",
    "2. `cook_recipe`: simulate using the ingredients by removing the ingredients in the given reicipe from the `fridge` and `pantry`\n",
    "\n",
    "The first function is provided for you below:"
   ]
  },
  {
   "cell_type": "code",
   "execution_count": 179,
   "metadata": {},
   "outputs": [],
   "source": [
    "import random\n",
    "\n",
    "def pick_meal_from_options(valid_meal_options):\n",
    "    \"\"\"Pick a meal at random from the list of options.\"\"\"\n",
    "    return random.choice(valid_meal_options)"
   ]
  },
  {
   "cell_type": "markdown",
   "metadata": {},
   "source": [
    "### Q.3 Write a function that removes each of the recipe ingredients from the fridge or pantry"
   ]
  },
  {
   "cell_type": "code",
   "execution_count": 180,
   "metadata": {},
   "outputs": [],
   "source": [
    "def cook_recipe(selected_recipe, fridge, pantry):\n",
    "    \"\"\"Remove used ingredients from the fridge and pantry.\"\"\"\n",
    "    # copy fridge and pantry lists\n",
    "    updated_fridge = fridge\n",
    "    updated_pantry = pantry\n",
    "\n",
    "    # loop over ingredients in selected recipe\n",
    "    for ingredient in selected_recipe:\n",
    "        for i,fridge_ingredient in enumerate(updated_fridge):\n",
    "            if ingredient == fridge_ingredient:\n",
    "                del updated_fridge[i]\n",
    "                break\n",
    "        \n",
    "        for i,pantry_ingredient in enumerate(updated_pantry):\n",
    "            if ingredient == pantry_ingredient:\n",
    "                del updated_pantry[i]\n",
    "                break\n",
    "\n",
    "    return updated_fridge, updated_pantry"
   ]
  },
  {
   "cell_type": "markdown",
   "metadata": {},
   "source": [
    "Assembling all of these functions together:"
   ]
  },
  {
   "cell_type": "code",
   "execution_count": 181,
   "metadata": {},
   "outputs": [],
   "source": [
    "def plan_weekday_meals(meal_options, fridge, pantry):\n",
    "    \"\"\"Select a meal for each weekday unless there is not enough food.\"\"\"\n",
    "    # list of weekdays\n",
    "    weekdays = [\"Monday\", \"Tuesday\", \"Wednesday\", \"Thursday\", \"Friday\"]\n",
    "\n",
    "    # loop over each weekday in list\n",
    "    for day in weekdays:\n",
    "        # get list of meals that can be cooked using fridge and pantry items\n",
    "        valid_meal_options = get_valid_meal_options(meal_options, fridge, pantry)\n",
    "        # check that there are valid meal options to pick from\n",
    "        if len(valid_meal_options) == 0:\n",
    "            print(\"\\nYou ran out of food!\")\n",
    "            return\n",
    "\n",
    "        # select meal from valid options and print selection\n",
    "        selected_meal = pick_meal_from_options(valid_meal_options)\n",
    "        print(f\"{day} : {selected_meal}\")\n",
    "\n",
    "        # cook the selected meal\n",
    "        selected_recipe = meal_options[selected_meal]\n",
    "        fridge, pantry = cook_recipe(selected_recipe, fridge, pantry)\n",
    "\n",
    "    # if loop finishes, print success statement\n",
    "    print(\"\\nYay! You made it through the week!\")"
   ]
  },
  {
   "cell_type": "markdown",
   "metadata": {},
   "source": [
    "Hooray! Now we can plan all of our meals for the week."
   ]
  },
  {
   "cell_type": "code",
   "execution_count": 182,
   "metadata": {},
   "outputs": [
    {
     "name": "stdout",
     "output_type": "stream",
     "text": [
      "Monday : mac and cheese\n",
      "\n",
      "You ran out of food!\n"
     ]
    }
   ],
   "source": [
    "plan_weekday_meals(meal_options, my_fridge, my_pantry)"
   ]
  },
  {
   "cell_type": "markdown",
   "metadata": {},
   "source": [
    "Oh no, we ran out of food! Let's write a function that allows us to add new foods to our fridge and pantry.\n",
    "\n",
    "### Q.4 Write a function `get_groceries` that adds a list of new values to either fridge or pantry"
   ]
  },
  {
   "cell_type": "code",
   "execution_count": 183,
   "metadata": {},
   "outputs": [],
   "source": [
    "def get_groceries(new_ingredients, current_inventory):\n",
    "    \"\"\"Add list of new_ingredients to the current_inventory\"\"\"\n",
    "    new_inventory = current_inventory + new_ingredients\n",
    "    return new_inventory"
   ]
  },
  {
   "cell_type": "markdown",
   "metadata": {},
   "source": [
    "### Q.5 Write a function that adds new meals and recipes to the variable `meal_options`\n",
    "Hint: look up the dictionary method `update`"
   ]
  },
  {
   "cell_type": "code",
   "execution_count": 184,
   "metadata": {},
   "outputs": [],
   "source": [
    "def add_meal_options(new_meals, meal_options):\n",
    "    \"\"\"Update meal_options by combining the two dictionaries into one\"\"\"\n",
    "    meal_options.update(new_meals)\n",
    "    return meal_options"
   ]
  },
  {
   "cell_type": "markdown",
   "metadata": {},
   "source": [
    "Notice that most of these functions are quite short (with the exception of our central function `plan_weekday_meals`). \n",
    "\n",
    "This is because of the **Single-Responsibility Principle** (SRP). When writing longer and more complex code, it's better to write many short helper functions (as we have done here) rather than writing one long function. A formal definition of the SRP can be found on [Wikipedia](https://en.wikipedia.org/wiki/Single-responsibility_principle)."
   ]
  },
  {
   "cell_type": "markdown",
   "metadata": {},
   "source": [
    "### Q.6 Please list a few of the benefits of breaking up this problem into multiple smaller functions"
   ]
  },
  {
   "cell_type": "markdown",
   "metadata": {},
   "source": [
    "### If we have multiple small functions, it makes the code more readable and allows us to approach the problem in isolated steps."
   ]
  },
  {
   "cell_type": "markdown",
   "metadata": {},
   "source": [
    "### Optional Game: use `get_groceries` to add ingredients to your fridge and pantry as well as `add_meal_options` to add new meal options until you can make it through the week without running out of food!"
   ]
  },
  {
   "cell_type": "code",
   "execution_count": 185,
   "metadata": {},
   "outputs": [],
   "source": [
    "new_fridge_items = []\n",
    "new_pantry_items = []\n",
    "\n",
    "my_fridge = get_groceries(new_fridge_items, my_fridge)\n",
    "my_pantry = get_groceries(new_pantry_items, my_pantry)"
   ]
  },
  {
   "cell_type": "code",
   "execution_count": 186,
   "metadata": {},
   "outputs": [],
   "source": [
    "new_meals = {}\n",
    "\n",
    "meal_options = add_meal_options(new_meals, meal_options)"
   ]
  },
  {
   "cell_type": "code",
   "execution_count": 187,
   "metadata": {},
   "outputs": [
    {
     "name": "stdout",
     "output_type": "stream",
     "text": [
      "\n",
      "You ran out of food!\n"
     ]
    }
   ],
   "source": [
    "plan_weekday_meals(meal_options, my_fridge, my_pantry)"
   ]
  }
 ],
 "metadata": {
  "kernelspec": {
   "display_name": "Python 3",
   "language": "python",
   "name": "python3"
  },
  "language_info": {
   "codemirror_mode": {
    "name": "ipython",
    "version": 3
   },
   "file_extension": ".py",
   "mimetype": "text/x-python",
   "name": "python",
   "nbconvert_exporter": "python",
   "pygments_lexer": "ipython3",
   "version": "3.11.4"
  }
 },
 "nbformat": 4,
 "nbformat_minor": 2
}
