{
 "cells": [
  {
   "cell_type": "markdown",
   "metadata": {},
   "source": [
    "# Software Development: Unit Testing"
   ]
  },
  {
   "cell_type": "markdown",
   "metadata": {},
   "source": [
    "Unit testing is a way to see if your code is correct by checking that the results are what you expect. It can be helpful to ensure your code still works after you make changes, and can be used when developing as a way of specifying the behaviors your code should have when complete."
   ]
  },
  {
   "cell_type": "markdown",
   "metadata": {},
   "source": [
    "## The `assert` Statement\n",
    "\n",
    "The assert statement is a built-in statement in Python used to, as the name says, assert if a given condition is true or not.\n",
    "\n",
    "If the condition is true, nothing happens, but if it's not true, an error is raised.\n",
    "\n",
    "This example returns true, thus it does not output or return anything.\n",
    "\n",
    "```python\n",
    "assert 1 > 0\n",
    "```\n",
    "\n",
    "This example is false, thus it will return an `AssertionError`.\n",
    "\n",
    "```python\n",
    ">>> assert 1 < 0\n",
    "\n",
    "Traceback (most recent call last):\n",
    "  File \"<stdin>\", line 1, in <module>\n",
    "AssertionError\n",
    "```\n",
    "\n",
    "The basic syntax for using `assert` can be broken down as such:\n",
    "```python\n",
    "assert <condition being tested>, <error message to be displayed>\n",
    "```"
   ]
  },
  {
   "cell_type": "markdown",
   "metadata": {},
   "source": [
    "## The `unittest` Module\n",
    "\n",
    "A test case is considered a single unit of testing, and it's represented by the `TestCase` class. It's used as a base class to create our own test cases that enable us to run multiple tests at once.\n",
    "\n",
    "The `TestCase` class provides several of its own assert methods that work just like the `assert` statement but for specific types of assertions. All assert methods in the `TestCase` class also take a `msg` argument that is used as an error message in case the test fails.\n",
    "\n",
    "Here's a list of the most commonly used assert methods in the `TestCase` class, provided by the official `unittest` documentation:\n",
    "\n",
    "| Method                    | Checks that          |\n",
    "| ------------------------- | -------------------- |\n",
    "| assertEqual(a, b)         | a == b               |\n",
    "| assertNotEqual(a, b)      | a != b               |\n",
    "| assertTrue(x)             | bool(x) is True      |\n",
    "| assertFalse(x)            | bool(x) is False     |\n",
    "| assertIs(a, b)            | a is b               |\n",
    "| assertIsNot(a, b)         | a is not b           |\n",
    "| assertIsNone(x)           | x is None            |\n",
    "| assertIsNotNone(x)        | x is not None        |\n",
    "| assertIn(a, b)            | a in b               |\n",
    "| assertNotIn(a, b)         | a not in b           |\n",
    "| assertIsInstance(a, b)    | isinstance(a, b)     |\n",
    "| assertNotIsInstance(a, b) | not isinstance(a, b) |"
   ]
  },
  {
   "cell_type": "markdown",
   "metadata": {},
   "source": [
    "## Implementing Unit Tests\n",
    "\n",
    "This is a very simple class that takes two numbers and has four methods to add, subtract, multiply and divide the first number by the second one and return the result."
   ]
  },
  {
   "cell_type": "code",
   "execution_count": 9,
   "metadata": {},
   "outputs": [],
   "source": [
    "class Calculations:\n",
    "    \"\"\"Class to do calculations.\"\"\"\n",
    "\n",
    "    def __init__(self, a : int, b : int) -> None:\n",
    "        \"\"\"Init instance attributes a,b\"\"\"\n",
    "        self.a = a\n",
    "        self.b = b\n",
    "\n",
    "    def get_sum(self) -> int:\n",
    "        \"\"\"Calculate the sum of a+b.\"\"\"\n",
    "        return self.a + self.b\n",
    "\n",
    "    def get_difference(self) -> int:\n",
    "        \"\"\"Calculate the difference a-b.\"\"\"\n",
    "        return self.a - self.b\n",
    "\n",
    "    def get_product(self) -> int:\n",
    "        \"\"\"Calculate the product a*b.\"\"\"\n",
    "        return self.a * self.b\n",
    "\n",
    "    def get_quotient(self) -> int | float:\n",
    "        \"\"\"Calculate the quotient a/b.\"\"\"\n",
    "\n",
    "        return self.a / self.b"
   ]
  },
  {
   "cell_type": "markdown",
   "metadata": {},
   "source": [
    "So now we want to test the methods inside this class. For that, we need to create a class based on the `TestCase` class and this class will contain methods that perform the tests. The common convention is to prefix the class name with `Test` and to prefix all the defined test functions with `test` as well. It is important that your test functions don't contain any arguments and that they start with `test` else the program will not run them."
   ]
  },
  {
   "cell_type": "code",
   "execution_count": 10,
   "metadata": {},
   "outputs": [
    {
     "name": "stderr",
     "output_type": "stream",
     "text": [
      "test_sum (__main__.TestCalculations)\n",
      "Test Calculations.get_sum() ... ok\n",
      "test_area (__main__.TestRectangle)\n",
      "Test Rectangle.get_area() ... ERROR\n",
      "test_set_height (__main__.TestRectangle)\n",
      "Test Rectangle.set_height() ... ERROR\n",
      "test_set_width (__main__.TestRectangle)\n",
      "Test Rectangle.set_width() ... ERROR\n",
      "\n",
      "======================================================================\n",
      "ERROR: test_area (__main__.TestRectangle)\n",
      "Test Rectangle.get_area()\n",
      "----------------------------------------------------------------------\n",
      "Traceback (most recent call last):\n",
      "  File \"C:\\Users\\Solal\\AppData\\Local\\Temp\\ipykernel_23224\\1539389617.py\", line 8, in test_area\n",
      "    rect = Rectangle(5, 10)\n",
      "NameError: name 'Rectangle' is not defined. Did you mean: 'TestRectangle'?\n",
      "\n",
      "======================================================================\n",
      "ERROR: test_set_height (__main__.TestRectangle)\n",
      "Test Rectangle.set_height()\n",
      "----------------------------------------------------------------------\n",
      "Traceback (most recent call last):\n",
      "  File \"C:\\Users\\Solal\\AppData\\Local\\Temp\\ipykernel_23224\\1539389617.py\", line 18, in test_set_height\n",
      "    rect = Rectangle(5, 10)\n",
      "NameError: name 'Rectangle' is not defined. Did you mean: 'TestRectangle'?\n",
      "\n",
      "======================================================================\n",
      "ERROR: test_set_width (__main__.TestRectangle)\n",
      "Test Rectangle.set_width()\n",
      "----------------------------------------------------------------------\n",
      "Traceback (most recent call last):\n",
      "  File \"C:\\Users\\Solal\\AppData\\Local\\Temp\\ipykernel_23224\\1539389617.py\", line 13, in test_set_width\n",
      "    rect = Rectangle(5, 10)\n",
      "NameError: name 'Rectangle' is not defined. Did you mean: 'TestRectangle'?\n",
      "\n",
      "----------------------------------------------------------------------\n",
      "Ran 4 tests in 0.010s\n",
      "\n",
      "FAILED (errors=3)\n"
     ]
    }
   ],
   "source": [
    "import unittest\n",
    "\n",
    "class TestCalculations(unittest.TestCase):\n",
    "    \"\"\"Class to test all methods in the Calculations class.\"\"\"\n",
    "    \n",
    "    def test_sum(self) -> None:\n",
    "        \"\"\"Test Calculations.get_sum()\"\"\"\n",
    "        calculation = Calculations(8,2)\n",
    "        self.assertEqual(calculation.get_sum(), 10, 'The sum is wrong.')\n",
    "\n",
    "if __name__ == '__main__':\n",
    "    unittest.main(argv=['ignored', '-v'], exit=False)"
   ]
  },
  {
   "cell_type": "markdown",
   "metadata": {},
   "source": [
    "# Q.1: Why should programmers create unit tests? What are some scenarios that unit tests could help a programmer?"
   ]
  },
  {
   "cell_type": "markdown",
   "metadata": {},
   "source": [
    "### A.1 Unit tests allow for easier debugging, as it allows to find issues easier. It also helps make sure that everything is working before publishing code."
   ]
  },
  {
   "cell_type": "markdown",
   "metadata": {},
   "source": [
    "# Q.2: Rewrite the above `TestCalculations` class to include a test for every method defined within `Calculations`."
   ]
  },
  {
   "cell_type": "code",
   "execution_count": 11,
   "metadata": {},
   "outputs": [
    {
     "name": "stderr",
     "output_type": "stream",
     "text": [
      "test_difference (__main__.TestCalculations)\n",
      "Test Calculations.get_difference() ... ok\n",
      "test_product (__main__.TestCalculations)\n",
      "Test Calculations.get_product() ... ok\n",
      "test_quotient (__main__.TestCalculations)\n",
      "Test Calculations.get_quotient() ... ok\n",
      "test_sum (__main__.TestCalculations)\n",
      "Test Calculations.get_sum() ... ok\n",
      "test_area (__main__.TestRectangle)\n",
      "Test Rectangle.get_area() ... ERROR\n",
      "test_set_height (__main__.TestRectangle)\n",
      "Test Rectangle.set_height() ... ERROR\n",
      "test_set_width (__main__.TestRectangle)\n",
      "Test Rectangle.set_width() ... ERROR\n",
      "\n",
      "======================================================================\n",
      "ERROR: test_area (__main__.TestRectangle)\n",
      "Test Rectangle.get_area()\n",
      "----------------------------------------------------------------------\n",
      "Traceback (most recent call last):\n",
      "  File \"C:\\Users\\Solal\\AppData\\Local\\Temp\\ipykernel_23224\\1539389617.py\", line 8, in test_area\n",
      "    rect = Rectangle(5, 10)\n",
      "NameError: name 'Rectangle' is not defined. Did you mean: 'TestRectangle'?\n",
      "\n",
      "======================================================================\n",
      "ERROR: test_set_height (__main__.TestRectangle)\n",
      "Test Rectangle.set_height()\n",
      "----------------------------------------------------------------------\n",
      "Traceback (most recent call last):\n",
      "  File \"C:\\Users\\Solal\\AppData\\Local\\Temp\\ipykernel_23224\\1539389617.py\", line 18, in test_set_height\n",
      "    rect = Rectangle(5, 10)\n",
      "NameError: name 'Rectangle' is not defined. Did you mean: 'TestRectangle'?\n",
      "\n",
      "======================================================================\n",
      "ERROR: test_set_width (__main__.TestRectangle)\n",
      "Test Rectangle.set_width()\n",
      "----------------------------------------------------------------------\n",
      "Traceback (most recent call last):\n",
      "  File \"C:\\Users\\Solal\\AppData\\Local\\Temp\\ipykernel_23224\\1539389617.py\", line 13, in test_set_width\n",
      "    rect = Rectangle(5, 10)\n",
      "NameError: name 'Rectangle' is not defined. Did you mean: 'TestRectangle'?\n",
      "\n",
      "----------------------------------------------------------------------\n",
      "Ran 7 tests in 0.017s\n",
      "\n",
      "FAILED (errors=3)\n"
     ]
    }
   ],
   "source": [
    "\n",
    "class TestCalculations(unittest.TestCase):\n",
    "    \"\"\"Class to test all methods in the Calculations class.\"\"\"\n",
    "    \n",
    "    def test_sum(self) -> None:\n",
    "        \"\"\"Test Calculations.get_sum()\"\"\"\n",
    "        calculation = Calculations(8,2)\n",
    "        self.assertEqual(calculation.get_sum(), 10, 'The sum is wrong.')\n",
    "\n",
    "    def test_difference(self) -> None:\n",
    "        \"\"\"Test Calculations.get_difference()\"\"\"\n",
    "        calculation = Calculations(8,2)\n",
    "        self.assertEqual(calculation.get_difference(), 6, 'The difference is wrong.')\n",
    "\n",
    "    def test_product(self) -> None:\n",
    "        \"\"\"Test Calculations.get_product()\"\"\"\n",
    "        calculation = Calculations(8,2)\n",
    "        self.assertEqual(calculation.get_product(), 16, 'The product is wrong.')\n",
    "\n",
    "    def test_quotient(self) -> None:\n",
    "        \"\"\"Test Calculations.get_quotient()\"\"\"\n",
    "        calculation = Calculations(8,2)\n",
    "        self.assertEqual(calculation.get_quotient(), 4, 'The quotient is wrong.')\n",
    "\n",
    "if __name__ == '__main__':\n",
    "    unittest.main(argv=['ignored', '-v'], exit=False)"
   ]
  },
  {
   "cell_type": "markdown",
   "metadata": {},
   "source": [
    "Answer the following question using the following code."
   ]
  },
  {
   "cell_type": "code",
   "execution_count": 12,
   "metadata": {},
   "outputs": [],
   "source": [
    "class Rectangle:\n",
    "    \"\"\"Class representing a rectangle.\"\"\"\n",
    "\n",
    "    def __init__(self, width : int, height : int):\n",
    "        \"\"\"Init instance attributes.\"\"\"\n",
    "        self.width = width\n",
    "        self.height = height\n",
    "\n",
    "    def get_area(self) -> int:\n",
    "        \"\"\"Calculate the area.\"\"\"\n",
    "        return self.width * self.height\n",
    "\n",
    "    def set_width(self, new_width : int) -> None:\n",
    "        \"\"\"Set the width attribute.\"\"\"\n",
    "        self.width = new_width\n",
    "\n",
    "    def set_height(self, new_height : int) -> None:\n",
    "        \"\"\"Set the height attribute.\"\"\"\n",
    "        self.height = new_height"
   ]
  },
  {
   "cell_type": "markdown",
   "metadata": {},
   "source": [
    "# Q.2: Please write a set of tests for each of the defined methods in `Rectangle`.\n",
    "\n",
    "For each method include a `True` case and a `False` case. You will need to use the method `self.assertNotEqual` for the `False` cases."
   ]
  },
  {
   "cell_type": "code",
   "execution_count": 13,
   "metadata": {},
   "outputs": [
    {
     "name": "stderr",
     "output_type": "stream",
     "text": [
      "test_difference (__main__.TestCalculations)\n",
      "Test Calculations.get_difference() ... ok\n",
      "test_product (__main__.TestCalculations)\n",
      "Test Calculations.get_product() ... ok\n",
      "test_quotient (__main__.TestCalculations)\n",
      "Test Calculations.get_quotient() ... ok\n",
      "test_sum (__main__.TestCalculations)\n",
      "Test Calculations.get_sum() ... ok\n",
      "test_area (__main__.TestRectangle)\n",
      "Test Rectangle.get_area() ... ok\n",
      "test_set_height (__main__.TestRectangle)\n",
      "Test Rectangle.set_height() ... FAIL\n",
      "test_set_width (__main__.TestRectangle)\n",
      "Test Rectangle.set_width() ... FAIL\n",
      "\n",
      "======================================================================\n",
      "FAIL: test_set_height (__main__.TestRectangle)\n",
      "Test Rectangle.set_height()\n",
      "----------------------------------------------------------------------\n",
      "Traceback (most recent call last):\n",
      "  File \"C:\\Users\\Solal\\AppData\\Local\\Temp\\ipykernel_23224\\1539389617.py\", line 19, in test_set_height\n",
      "    self.assertEqual(rect.set_width(20), 20, 'The new height is wrong.')\n",
      "AssertionError: None != 20 : The new height is wrong.\n",
      "\n",
      "======================================================================\n",
      "FAIL: test_set_width (__main__.TestRectangle)\n",
      "Test Rectangle.set_width()\n",
      "----------------------------------------------------------------------\n",
      "Traceback (most recent call last):\n",
      "  File \"C:\\Users\\Solal\\AppData\\Local\\Temp\\ipykernel_23224\\1539389617.py\", line 14, in test_set_width\n",
      "    self.assertEqual(rect.set_width(10), 10, 'The new width is wrong.')\n",
      "AssertionError: None != 10 : The new width is wrong.\n",
      "\n",
      "----------------------------------------------------------------------\n",
      "Ran 7 tests in 0.008s\n",
      "\n",
      "FAILED (failures=2)\n"
     ]
    }
   ],
   "source": [
    "# YOUR ANSWER HERE\n",
    "\n",
    "class TestRectangle(unittest.TestCase):\n",
    "    \"\"\"Class to test all methods in Rectangle.\"\"\"\n",
    "\n",
    "    def test_area(self) -> None:\n",
    "        \"\"\"Test Rectangle.get_area()\"\"\"\n",
    "        rect = Rectangle(5, 10)\n",
    "        self.assertEqual(rect.get_area(), 50, 'The area is wrong.')\n",
    "\n",
    "    def test_set_width(self) -> None:\n",
    "        \"\"\"Test Rectangle.set_width()\"\"\"\n",
    "        rect = Rectangle(5, 10)\n",
    "        self.assertEqual(rect.set_width(10), 10, 'The new width is wrong.')\n",
    "\n",
    "    def test_set_height(self) -> None:\n",
    "        \"\"\"Test Rectangle.set_height()\"\"\"\n",
    "        rect = Rectangle(5, 10)\n",
    "        self.assertEqual(rect.set_width(20), 20, 'The new height is wrong.')\n",
    "\n",
    "if __name__ == '__main__':\n",
    "    unittest.main(argv=['ignored', '-v'], exit=False)"
   ]
  }
 ],
 "metadata": {
  "kernelspec": {
   "display_name": "Python 3",
   "language": "python",
   "name": "python3"
  },
  "language_info": {
   "codemirror_mode": {
    "name": "ipython",
    "version": 3
   },
   "file_extension": ".py",
   "mimetype": "text/x-python",
   "name": "python",
   "nbconvert_exporter": "python",
   "pygments_lexer": "ipython3",
   "version": "3.10.8"
  }
 },
 "nbformat": 4,
 "nbformat_minor": 2
}
