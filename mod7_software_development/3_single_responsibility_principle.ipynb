{
 "cells": [
  {
   "cell_type": "markdown",
   "metadata": {},
   "source": [
    "# Software Development: Single Responsibility Principle"
   ]
  },
  {
   "cell_type": "markdown",
   "metadata": {},
   "source": [
    "Please follow the instructions and uncomment the skeleton code as necessary.\n",
    "\n",
    "This assignment is due in addition to the small group assignment before the next class"
   ]
  },
  {
   "cell_type": "markdown",
   "metadata": {},
   "source": [
    "## Planning Weekday Meals\n",
    "\n",
    "Suppose you are a busy student and you don't have time to go grocery shopping during the week. This means that you need to have enough food in your fridge and pantry to get through the week. You'll also need to be able to find recipes that you can cook using the ingredients you have. \n",
    "\n",
    "The following questions will walk you through how we might model this with code!"
   ]
  },
  {
   "cell_type": "markdown",
   "metadata": {},
   "source": [
    "### Fridge and Pantry Inventory\n",
    "Below we have a list of the items in our fridge and pantry"
   ]
  },
  {
   "cell_type": "code",
   "execution_count": 51,
   "metadata": {},
   "outputs": [],
   "source": [
    "# inventory\n",
    "my_fridge = [\"eggs\", \"milk\", \"blueberries\", \"ketchup\", \"leftover pizza\", \"cheese\", \"butter\", \"yogurt\", \"strawberries\", \"applesauce\", \"jam\", \"curry paste\"]\n",
    "my_pantry = [\"flour\", \"chocolate chips\", \"sugar\", \"oatmeal\", \"goldfish\", \"seaweed\", \"pasta\", \"peanut butter\", \"nutella\", \"crackers\", \"bread\", \"rice\", \"coconut milk\"]"
   ]
  },
  {
   "cell_type": "markdown",
   "metadata": {},
   "source": [
    "### Q.1 Write a class called Kitchen that as outlined below\n",
    "\n",
    "Your class should include:\n",
    "- attributes: `fridge`, `pantry`\n",
    "- methods: `get_groceries`, `all_ingredients`"
   ]
  },
  {
   "cell_type": "code",
   "execution_count": 52,
   "metadata": {},
   "outputs": [],
   "source": [
    "# YOUR CODE HERE\n",
    "\n",
    "class Kitchen:\n",
    "    \"\"\"Class representing a kitchen containing a fridge and pantry.\"\"\"\n",
    "\n",
    "    def __init__(self, fridge : list, pantry : list) -> None:\n",
    "        \"\"\"Init Kitchen instance variables.\"\"\"\n",
    "        self.fridge = fridge\n",
    "        self.pantry = pantry\n",
    "    \n",
    "    def get_groceries(self, new_ingredients : list, inventory_name : str) -> None:\n",
    "        \"\"\"Add new ingredients to either fridge or pantry.\"\"\"\n",
    "        if inventory_name == \"fridge\":\n",
    "            self.fridge.extend(new_ingredients)\n",
    "\n",
    "        elif inventory_name == \"pantry\":\n",
    "            self.pantry.extend(new_ingredients)\n",
    "\n",
    "    def all_ingredients(self) -> list:\n",
    "        \"\"\"Return all ingredients in fridge and pantry in one list.\"\"\"\n",
    "        return self.fridge + self.pantry"
   ]
  },
  {
   "cell_type": "code",
   "execution_count": 53,
   "metadata": {},
   "outputs": [],
   "source": [
    "my_kitchen = Kitchen(my_fridge, my_pantry)"
   ]
  },
  {
   "cell_type": "markdown",
   "metadata": {},
   "source": [
    "### Recipes\n",
    "\n",
    "Now, let's make a class `Recipe` that stores the recipe `name` and `ingredients`:"
   ]
  },
  {
   "cell_type": "code",
   "execution_count": 54,
   "metadata": {},
   "outputs": [],
   "source": [
    "class Recipe:\n",
    "    \"\"\"Class representing recipe.\"\"\"\n",
    "\n",
    "    def __init__(self, recipe_name : str, ingredients : list) -> None:\n",
    "        \"\"\"Init Recipe instance variables.\"\"\"\n",
    "        self.name = recipe_name\n",
    "        self.ingredients = ingredients\n",
    "\n",
    "    def __str__(self) -> str:\n",
    "        \"\"\"Return recipe name.\"\"\"\n",
    "        return self.name\n"
   ]
  },
  {
   "cell_type": "markdown",
   "metadata": {},
   "source": [
    "Here are some recipes to get you started!"
   ]
  },
  {
   "cell_type": "code",
   "execution_count": 55,
   "metadata": {},
   "outputs": [],
   "source": [
    "muffins = Recipe(\"muffins\", [\"flour\", \"sugar\", \"milk\", \"butter\", \"blueberries\"])\n",
    "mac_and_cheese = Recipe(\"mac and cheese\", [\"milk\", \"butter\", \"cheese\", \"pasta\"])\n",
    "shrimp_curry = Recipe(\"shrimp curry\", [\"shrimp\", \"rice\", \"coconut milk\", \"curry paste\"])\n",
    "fried_rice = Recipe(\"fried rice\", [\"soy sauce\", \"rice\", \"eggs\", \"peas\"])"
   ]
  },
  {
   "cell_type": "markdown",
   "metadata": {},
   "source": [
    "### Q.2 Fill in the missing code in `check_recipe_ingredients`."
   ]
  },
  {
   "cell_type": "code",
   "execution_count": 56,
   "metadata": {},
   "outputs": [],
   "source": [
    "def check_recipe_ingredients(recipe : Recipe, kitchen : Kitchen) -> bool:\n",
    "    \"\"\"Check that all recipe ingredients are in the kitchen.\"\"\"\n",
    "    kitchen_ingredients = kitchen.all_ingredients()\n",
    "\n",
    "    for ingredient in recipe.ingredients:\n",
    "        if ingredient not in kitchen_ingredients:\n",
    "            return False\n",
    "    \n",
    "    return True"
   ]
  },
  {
   "cell_type": "markdown",
   "metadata": {},
   "source": [
    "### Q.3 Please write unit tests for the function `check_recipe_ingredients` using `muffins` and `fried_rice` using `assert`\n",
    "\n",
    "Note: you do not need to use the unittest module for this!"
   ]
  },
  {
   "cell_type": "code",
   "execution_count": 57,
   "metadata": {},
   "outputs": [],
   "source": [
    "def test_muffins():\n",
    "    \"\"\"\n",
    "    Test check_recipe_ingredients for expected output:\n",
    "    muffins -> True\n",
    "    \"\"\"\n",
    "    # create test case with known expected output\n",
    "    muffins = Recipe(\"muffins\", [\"flour\", \"sugar\", \"milk\", \"butter\", \"blueberries\"])\n",
    "    kitchen = Kitchen([\"flour\", \"sugar\"], [\"milk\", \"butter\", \"blueberries\"])\n",
    "    all_muffin_ingredients = check_recipe_ingredients(muffins, kitchen)\n",
    "    \n",
    "    # check output matches expected\n",
    "    assert all_muffin_ingredients == True\n",
    "\n",
    "def test_fried_rice():\n",
    "    \"\"\"\n",
    "    Test check_recipe_ingredients for expected output:\n",
    "    fried_rice -> False\n",
    "    \"\"\"\n",
    "    # create test case with known expected output\n",
    "    fried_rice = Recipe(\"fried_rice\", [\"soy sauce\", \"rice\", \"eggs\", \"peas\"])\n",
    "    kitchen = Kitchen([\"eggs\"], [\"rice\"])\n",
    "    all_fried_rice_ingredients = check_recipe_ingredients(fried_rice, kitchen)\n",
    "\n",
    "    # check output matches expected\n",
    "    assert all_fried_rice_ingredients == False"
   ]
  },
  {
   "cell_type": "markdown",
   "metadata": {},
   "source": [
    "Check if unit tests passed as expected:"
   ]
  },
  {
   "cell_type": "code",
   "execution_count": 58,
   "metadata": {},
   "outputs": [],
   "source": [
    "test_muffins()\n",
    "test_fried_rice()"
   ]
  },
  {
   "cell_type": "markdown",
   "metadata": {},
   "source": [
    "### Q.4 Please write a class `RecipeBook` that stores a list of recipes and has a method called `add_new_recipes`."
   ]
  },
  {
   "cell_type": "code",
   "execution_count": 59,
   "metadata": {},
   "outputs": [],
   "source": [
    "class RecipeBook:\n",
    "    \"\"\"Class representing recipe book.\"\"\"\n",
    "\n",
    "    def __init__(self, recipes : list[Recipe]) -> None:\n",
    "        \"\"\"Init RecipeBook instance variables.\"\"\"\n",
    "        self.recipes = recipes\n",
    "    \n",
    "    def add_new_recipes(self, new_recipes : list[Recipe]) -> None:\n",
    "        \"\"\"Add new recipes to stored list of recipes.\"\"\"\n",
    "        self.recipes.extend(new_recipes)\n"
   ]
  },
  {
   "cell_type": "markdown",
   "metadata": {},
   "source": [
    "Great! Using our new class we can store our `Recipe` instances:"
   ]
  },
  {
   "cell_type": "code",
   "execution_count": 60,
   "metadata": {},
   "outputs": [],
   "source": [
    "recipe_book = RecipeBook([muffins, mac_and_cheese, shrimp_curry, fried_rice])"
   ]
  },
  {
   "cell_type": "markdown",
   "metadata": {},
   "source": [
    "### Q.5 Please fill in the function `get_valid_meal_options` that checks which meals we can cook with the ingredients available in our kitchen:"
   ]
  },
  {
   "cell_type": "code",
   "execution_count": 61,
   "metadata": {},
   "outputs": [],
   "source": [
    "def get_valid_meal_options(recipe_book : RecipeBook, kitchen : Kitchen) -> list[Recipe]:\n",
    "    \"\"\"Get list of Recipe objects that can be cooked from the kitchen ingredients.\"\"\"\n",
    "    valid_meal_options = []\n",
    "    for recipe in recipe_book.recipes:\n",
    "        # check if all ingredients are stocked\n",
    "        all_ingredients_available = check_recipe_ingredients(recipe, kitchen)\n",
    "\n",
    "        if all_ingredients_available:\n",
    "            valid_meal_options.append(recipe)\n",
    "    return valid_meal_options\n"
   ]
  },
  {
   "cell_type": "markdown",
   "metadata": {},
   "source": [
    "Lastly, we need two more functions before we can run `plan_weekday_meals`: \n",
    "1. `pick_meal_from_options`: randomly select a recipe from the list of `valid_meal_options`\n",
    "2. `cook_recipe`: simulate using the ingredients by removing the ingredients in the given reicipe from the `fridge` and `pantry`\n",
    "\n",
    "The functions are provided for you below:"
   ]
  },
  {
   "cell_type": "code",
   "execution_count": 62,
   "metadata": {},
   "outputs": [],
   "source": [
    "import random\n",
    "\n",
    "def pick_meal_from_options(valid_meal_options : list[Recipe]):\n",
    "    \"\"\"Pick a meal at random from the list of recipes.\"\"\"\n",
    "    return random.choice(valid_meal_options)\n",
    "\n",
    "def cook_recipe(selected_recipe : Recipe, kitchen : Kitchen) -> Kitchen:\n",
    "    \"\"\"Remove used ingredients from the fridge and pantry.\"\"\"\n",
    "    updated_fridge = kitchen.fridge[:]\n",
    "    updated_pantry = kitchen.pantry[:]\n",
    "    for ingredient in selected_recipe.ingredients:\n",
    "        if ingredient in updated_fridge:\n",
    "            updated_fridge.remove(ingredient)\n",
    "        if ingredient in updated_pantry:\n",
    "            updated_pantry.remove(ingredient)\n",
    "            \n",
    "    updated_kitchen = Kitchen(updated_fridge, updated_pantry)\n",
    "    return updated_kitchen"
   ]
  },
  {
   "cell_type": "markdown",
   "metadata": {},
   "source": [
    "Assembling all of this together:"
   ]
  },
  {
   "cell_type": "code",
   "execution_count": 63,
   "metadata": {},
   "outputs": [],
   "source": [
    "def plan_weekday_meals(recipe_book : RecipeBook, kitchen : Kitchen):\n",
    "    \"\"\"Select a meal for each weekday unless there is not enough food.\"\"\"\n",
    "    # list of weekdays\n",
    "    weekdays = [\"Monday\", \"Tuesday\", \"Wednesday\", \"Thursday\", \"Friday\"]\n",
    "\n",
    "    # loop over each weekday in list\n",
    "    for day in weekdays:\n",
    "        # get list of meals that can be cooked using fridge and pantry items\n",
    "        valid_meal_options = get_valid_meal_options(recipe_book, kitchen)\n",
    "\n",
    "        # check that there are valid meal options to pick from\n",
    "        if len(valid_meal_options) == 0:\n",
    "            print(\"\\nYou ran out of food!\")\n",
    "            return\n",
    "\n",
    "        # select meal from valid options and print selection\n",
    "        selected_recipe = pick_meal_from_options(valid_meal_options)\n",
    "        print(f\"{day}: {selected_recipe}\")\n",
    "\n",
    "        # cook the selected meal\n",
    "        kitchen = cook_recipe(selected_recipe, kitchen)\n",
    "\n",
    "    # if loop finishes, print success statement\n",
    "    print(\"\\nYay! You made it through the week!\")"
   ]
  },
  {
   "cell_type": "markdown",
   "metadata": {},
   "source": [
    "Hooray! Now we can plan all of our meals for the week."
   ]
  },
  {
   "cell_type": "code",
   "execution_count": 64,
   "metadata": {},
   "outputs": [
    {
     "name": "stdout",
     "output_type": "stream",
     "text": [
      "Monday: mac and cheese\n",
      "\n",
      "You ran out of food!\n"
     ]
    }
   ],
   "source": [
    "plan_weekday_meals(recipe_book, my_kitchen)"
   ]
  },
  {
   "cell_type": "markdown",
   "metadata": {},
   "source": [
    "Notice that most of these functions and class methods are quite short (with the exception of our central function `plan_weekday_meals`). \n",
    "\n",
    "This is because of the **Single-Responsibility Principle** (SRP). When writing longer and more complex code, it's better to write many short helper functions (as we have done here) rather than writing one long function. A formal definition of the SRP can be found on [Wikipedia](https://en.wikipedia.org/wiki/Single-responsibility_principle)."
   ]
  },
  {
   "cell_type": "markdown",
   "metadata": {},
   "source": [
    "### Q.6 Please list a few of the benefits of writing `Kitchen`, `Recipe`, and `RecipeBook` as classes."
   ]
  },
  {
   "cell_type": "markdown",
   "metadata": {},
   "source": [
    "### Allows us to create multiple different Kitchens, Recipes, and RecipeBooks that contain varied data"
   ]
  },
  {
   "cell_type": "markdown",
   "metadata": {},
   "source": [
    "### Checkpoint: confirm that your code works as expected by running the code below.\n",
    "\n",
    "If you have implemented everything properly you should be able to make it through the week. Fee free to play around with the code!"
   ]
  },
  {
   "cell_type": "code",
   "execution_count": 65,
   "metadata": {},
   "outputs": [],
   "source": [
    "new_fridge_items = [\"milk\", \"butter\", \"shrimp\"]\n",
    "new_pantry_items = [\"flour\", \"sugar\", \"granola\"]\n",
    "\n",
    "my_fridge = my_kitchen.get_groceries(new_fridge_items, \"fridge\")\n",
    "my_pantry = my_kitchen.get_groceries(new_pantry_items, \"pantry\")"
   ]
  },
  {
   "cell_type": "code",
   "execution_count": 66,
   "metadata": {},
   "outputs": [],
   "source": [
    "parfait = Recipe(\"parfait\", [\"yogurt\", \"strawberries\", \"granola\"])\n",
    "oatmeal = Recipe(\"oatmeal\", [\"oatmeal\"])\n",
    "cereal = Recipe(\"cereal\", [\"cereal\", \"milk\"])\n",
    "\n",
    "recipe_book.add_new_recipes([parfait, oatmeal, cereal])"
   ]
  },
  {
   "cell_type": "code",
   "execution_count": 67,
   "metadata": {},
   "outputs": [
    {
     "name": "stdout",
     "output_type": "stream",
     "text": [
      "Monday: parfait\n",
      "Tuesday: shrimp curry\n",
      "Wednesday: oatmeal\n",
      "Thursday: mac and cheese\n",
      "Friday: muffins\n",
      "\n",
      "Yay! You made it through the week!\n"
     ]
    }
   ],
   "source": [
    "plan_weekday_meals(recipe_book, my_kitchen)"
   ]
  }
 ],
 "metadata": {
  "kernelspec": {
   "display_name": "Python 3",
   "language": "python",
   "name": "python3"
  },
  "language_info": {
   "codemirror_mode": {
    "name": "ipython",
    "version": 3
   },
   "file_extension": ".py",
   "mimetype": "text/x-python",
   "name": "python",
   "nbconvert_exporter": "python",
   "pygments_lexer": "ipython3",
   "version": "3.10.8"
  }
 },
 "nbformat": 4,
 "nbformat_minor": 2
}
