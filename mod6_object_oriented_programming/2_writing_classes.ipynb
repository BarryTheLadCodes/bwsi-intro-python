{
 "cells": [
  {
   "cell_type": "markdown",
   "metadata": {},
   "source": [
    "# Object Oriented Programming: Writing Classes"
   ]
  },
  {
   "cell_type": "code",
   "execution_count": 2,
   "metadata": {},
   "outputs": [],
   "source": [
    "import random"
   ]
  },
  {
   "cell_type": "markdown",
   "metadata": {},
   "source": [
    "Let's define an example class called `Dog` which has multiple attributes and methods:"
   ]
  },
  {
   "cell_type": "code",
   "execution_count": null,
   "metadata": {},
   "outputs": [],
   "source": [
    "class Dog:\n",
    "    \"\"\"Class representing a dog.\"\"\"\n",
    "\n",
    "    def __init__(self, name, age, breed):\n",
    "        \"\"\"Initialize name, age, and breed information.\"\"\"\n",
    "        self.name = name\n",
    "        self.age = age\n",
    "        self.breed = breed\n",
    "\n",
    "    def introduce(self):\n",
    "        \"\"\"Introduce the dog.\"\"\"\n",
    "        print(f\"{self.name} is a {self.age} year old {self.breed}.\")\n",
    "\n",
    "    def bark(self):\n",
    "        \"\"\"Say Woof!\"\"\"\n",
    "        print(\"Woof!\")\n",
    "\n",
    "    def celebrate_birthday(self):\n",
    "        \"\"\"Celebrate the dog's birthday and update the age attribute.\"\"\"\n",
    "        self.age += 1\n",
    "        print(f\"It's {self.name}'s birthday! They are now {self.age} years old.\")\n",
    "\n",
    "    def check_mood(self):\n",
    "        \"\"\"Check the dog's mood.\"\"\"\n",
    "        mood = random.choice([\"happy\", \"grumpy\", \"sleepy\"])\n",
    "        print(f\"{self.name} is feeling {mood} right now.\")\n"
   ]
  },
  {
   "cell_type": "markdown",
   "metadata": {},
   "source": [
    "Notice that for each of the methods, we pass in something called `self`. This makes it clear that this is a method of a class, and not a standalone function. \n",
    "\n",
    "If you don't include the `self`, you may get an error that looks like this: \n",
    "\n",
    "`TypeError: your_instance.method() takes 0 positional arguments but 1 was given`. "
   ]
  },
  {
   "cell_type": "markdown",
   "metadata": {},
   "source": [
    "Also, note that `celebrate_birthday` changes the `age` attribute every time it is called. This is an extremely common practice in object oriented programming. In fact, it is general practice to only have the attributes of a class modified by its methods. This makes debugging simpler, as one only has to look in one class to see where errors appear."
   ]
  },
  {
   "cell_type": "code",
   "execution_count": 4,
   "metadata": {},
   "outputs": [
    {
     "name": "stdout",
     "output_type": "stream",
     "text": [
      "<__main__.Dog object at 0x000001C02C927010>\n",
      "Rover is a 3 year old poodle.\n"
     ]
    }
   ],
   "source": [
    "rover = Dog(\"Rover\", 3, \"poodle\")\n",
    "rover.introduce()"
   ]
  },
  {
   "cell_type": "code",
   "execution_count": 5,
   "metadata": {},
   "outputs": [
    {
     "name": "stdout",
     "output_type": "stream",
     "text": [
      "It's Rover's birthday! They are now 4 years old.\n",
      "It's Rover's birthday! They are now 5 years old.\n",
      "It's Rover's birthday! They are now 6 years old.\n"
     ]
    }
   ],
   "source": [
    "rover.celebrate_birthday()\n",
    "rover.celebrate_birthday()\n",
    "rover.celebrate_birthday()"
   ]
  },
  {
   "cell_type": "code",
   "execution_count": 8,
   "metadata": {},
   "outputs": [
    {
     "name": "stdout",
     "output_type": "stream",
     "text": [
      "Rover is feeling grumpy right now.\n"
     ]
    }
   ],
   "source": [
    "rover.check_mood()"
   ]
  },
  {
   "cell_type": "markdown",
   "metadata": {},
   "source": [
    "## Please write a class similar to the example called `Cat`\n",
    "### Q.1 Write an initial solution similar to `Dog` (with the docstrings/methods changed as necessary):\n",
    "- **attributes**: `name`, `age`, `breed`\n",
    "- **methods**: `__init__()`, `introduce()`, `meow()`, `celebrate_birthday()`, `check_mood()`\n",
    "\n",
    "### Q.2 Make our `Cat` class a little more robust:\n",
    "- Add a method called `growl` that prints `\"Grrr...\"` when called\n",
    "- Add conditionals to the method `check_mood` that print out corresponding statements based on the cat's mood:\n",
    "    - happy $\\rightarrow$ calls `self.meow()`\n",
    "    - grumpy $\\rightarrow$ calls `self.growl()`\n",
    "    - sleepy $\\rightarrow$ `print(\"Zzzz...\")`\n",
    "\n",
    "### Q.3 Lastly, handle the case when the cat is less than a year old:\n",
    "- Add the attribute `is_kitten` that stores if the cat is a kitten (i.e. age < 1 year old). \n",
    "- Add a condition to `introduce()` such that:\n",
    "    \n",
    "    `self.is_kitten` is `True` $\\rightarrow$ `print(f\"{self.name} is a {self.breed} kitten.\")`\n",
    "\n",
    "- Add a condition to `celebrate_birthday()` such that:\n",
    "\n",
    "    `self.is_kitten` is `True` $\\rightarrow$ `print(f\"It's {self.name}'s birthday! They are now 1 year old.\")`\n",
    "\n",
    "- **Hint**: make sure to update `is_kitten` when appropriate!"
   ]
  },
  {
   "cell_type": "code",
   "execution_count": 12,
   "metadata": {},
   "outputs": [],
   "source": [
    "class Cat:\n",
    "    \"\"\"Class representing a Cat.\"\"\"\n",
    "    def __init__(self, name, age, breed):\n",
    "        \"\"\"Initialize name, age, and breed information.\"\"\"\n",
    "        self.name = name\n",
    "        self.age = age\n",
    "        self.breed = breed\n",
    "\n",
    "    def introduce(self):\n",
    "        \"\"\"Introduce the cat.\"\"\"\n",
    "        if self.is_kitten():\n",
    "            print(f\"{self.name} is a {self.breed} kitten.\")\n",
    "        else:\n",
    "            print(f\"{self.name} is a {self.age} year old {self.breed}.\")\n",
    "\n",
    "    def is_kitten(self):\n",
    "        \"\"\"Check if the cat is a kitten.\"\"\"\n",
    "        if self.age < 1:\n",
    "            return True\n",
    "        else:\n",
    "            return False\n",
    "\n",
    "    def meow(self):\n",
    "        \"\"\"Say Meow!\"\"\"\n",
    "        print(\"Meow!\")\n",
    "\n",
    "    def growl(self):\n",
    "        \"\"\"Say Grrr!\"\"\"\n",
    "        print(\"Grrr...\")\n",
    "\n",
    "    def celebrate_birthday(self):\n",
    "        \"\"\"Celebrate the cat's birthday and update the age attribute.\"\"\"\n",
    "        self.age += 1\n",
    "        print(f\"It's {self.name}'s birthday! They are now {self.age} years old.\")\n",
    "\n",
    "    def check_mood(self):\n",
    "        \"\"\"Check the cat's mood.\"\"\"\n",
    "        mood = random.choice([\"happy\", \"grumpy\", \"sleepy\"])\n",
    "        print(f\"{self.name} is feeling {mood} right now.\")\n",
    "        if mood == \"grumpy\":\n",
    "            self.growl()\n",
    "        elif mood == \"happy\":\n",
    "            self.meow()\n",
    "        else:\n",
    "            print(\"Zzzz...\")"
   ]
  },
  {
   "cell_type": "markdown",
   "metadata": {},
   "source": [
    "Check your work by running the following code blocks:"
   ]
  },
  {
   "cell_type": "code",
   "execution_count": 13,
   "metadata": {},
   "outputs": [],
   "source": [
    "# Initialize two instances of Cat: Sesame and Miso\n",
    "sesame = Cat(\"Sesame\", 2, \"Siberian\")\n",
    "miso = Cat(\"Miso\", 0.5, \"Siberian\")"
   ]
  },
  {
   "cell_type": "code",
   "execution_count": 14,
   "metadata": {},
   "outputs": [
    {
     "name": "stdout",
     "output_type": "stream",
     "text": [
      "Sesame is a 2 year old Siberian.\n",
      "Miso is a Siberian kitten.\n"
     ]
    }
   ],
   "source": [
    "# Check that the introductions work as expected\n",
    "sesame.introduce()     # EXPECTED: Sesame is a 2 year old Siberian.\n",
    "miso.introduce()       # EXPECTED: Miso is a Siberian kitten."
   ]
  },
  {
   "cell_type": "code",
   "execution_count": 20,
   "metadata": {},
   "outputs": [
    {
     "name": "stdout",
     "output_type": "stream",
     "text": [
      "Here is your espresso!\n",
      "Here is your espresso!\n"
     ]
    },
    {
     "data": {
      "text/plain": [
       "30"
      ]
     },
     "execution_count": 20,
     "metadata": {},
     "output_type": "execute_result"
    }
   ],
   "source": [
    "class EspressoMachine:\n",
    "    coffee_per_shot = 8 # grams\n",
    "    water_per_shot = 10 # percentage\n",
    "        \n",
    "    def __init__(self, coffee, water_level):\n",
    "        self.coffee = coffee # grams\n",
    "        self.water_level = water_level # percentage\n",
    "    \n",
    "    def add_coffee(self, coffee):\n",
    "        self.coffee += coffee\n",
    "        print(\"Coffee grounds were refilled.\")\n",
    "    \n",
    "    def refill_water(self, water):\n",
    "        self.water_level = 100\n",
    "        print(\"Water tank was refilled.\")\n",
    "\n",
    "    def brew(self, num_shots=1):\n",
    "\n",
    "        req_coffee = num_shots * self.coffee_per_shot\n",
    "        req_water = num_shots * self.water_per_shot\n",
    "\n",
    "        if (self.water_level >= req_water) and (self.coffee >= req_coffee):\n",
    "            self.water_level -= req_water\n",
    "            self.coffee -= req_coffee\n",
    "            print(\"Here is your espresso!\")\n",
    "        else:\n",
    "            print(\"Not enough water or coffee beans! Refill needed.\")\n",
    "\n",
    "    def get_status(self):\n",
    "        print(f\"Coffee Beans: {self.coffee}g | Water Level: {self.water_level}%\")\n",
    "        \n",
    "# Create instance\n",
    "my_machine = EspressoMachine(20, 50)\n",
    "\n",
    "my_machine.brew()\n",
    "my_machine.brew()\n",
    "my_machine.water_level"
   ]
  }
 ],
 "metadata": {
  "kernelspec": {
   "display_name": "Python 3",
   "language": "python",
   "name": "python3"
  },
  "language_info": {
   "codemirror_mode": {
    "name": "ipython",
    "version": 3
   },
   "file_extension": ".py",
   "mimetype": "text/x-python",
   "name": "python",
   "nbconvert_exporter": "python",
   "pygments_lexer": "ipython3",
   "version": "3.10.8"
  }
 },
 "nbformat": 4,
 "nbformat_minor": 2
}
