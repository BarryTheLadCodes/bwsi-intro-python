{
 "cells": [
  {
   "cell_type": "markdown",
   "metadata": {},
   "source": [
    "# NumPy Fundamentals: Manipulating Matrices\n",
    "Please follow the instructions and uncomment the skeleton code as necessary.\n",
    "\n",
    "This assignment is due in addition to the small group assignment before the next class"
   ]
  },
  {
   "cell_type": "code",
   "execution_count": 90,
   "metadata": {},
   "outputs": [],
   "source": [
    "import numpy as np"
   ]
  },
  {
   "cell_type": "code",
   "execution_count": 103,
   "metadata": {},
   "outputs": [
    {
     "name": "stdout",
     "output_type": "stream",
     "text": [
      "[[[1. 1. 1.]\n",
      "  [1. 1. 1.]\n",
      "  [1. 1. 1.]]\n",
      "\n",
      " [[2. 2. 2.]\n",
      "  [2. 2. 2.]\n",
      "  [2. 2. 2.]]\n",
      "\n",
      " [[3. 3. 3.]\n",
      "  [3. 3. 3.]\n",
      "  [3. 3. 3.]]]\n"
     ]
    }
   ],
   "source": [
    "# Create a 3x3x3 np.array\n",
    "my_array = [[[1]],[[2]],[[3]]] * np.ones((3,3,3))\n",
    "print(my_array)"
   ]
  },
  {
   "cell_type": "markdown",
   "metadata": {},
   "source": [
    "## Multidimensional Indexing"
   ]
  },
  {
   "cell_type": "markdown",
   "metadata": {},
   "source": [
    "### Q.1 Print the value `2.0` from `my_array` using its index"
   ]
  },
  {
   "cell_type": "code",
   "execution_count": 92,
   "metadata": {},
   "outputs": [
    {
     "name": "stdout",
     "output_type": "stream",
     "text": [
      "2.0\n"
     ]
    }
   ],
   "source": [
    "print(my_array[1][0][0])"
   ]
  },
  {
   "cell_type": "markdown",
   "metadata": {},
   "source": [
    "#### Q.2 Use multidimensional slicing to print a 3x3 array that contains *all* values of `2` from `my_array`."
   ]
  },
  {
   "cell_type": "code",
   "execution_count": 93,
   "metadata": {},
   "outputs": [
    {
     "name": "stdout",
     "output_type": "stream",
     "text": [
      "[[[2. 2. 2.]\n",
      "  [2. 2. 2.]\n",
      "  [2. 2. 2.]]]\n"
     ]
    }
   ],
   "source": [
    "print(my_array[1:2,0:3,0:3])"
   ]
  },
  {
   "cell_type": "markdown",
   "metadata": {},
   "source": [
    "#### Q.3 Use multidimensional slicing to add `5` to every other element in `my_array` such that `print(new_array)` outputs\n",
    "\n",
    "```python\n",
    "[[[6. 1. 6.]\n",
    "  [1. 6. 1.]\n",
    "  [6. 1. 6.]]\n",
    "\n",
    " [[7. 2. 7.]\n",
    "  [2. 7. 2.]\n",
    "  [7. 2. 7.]]\n",
    "\n",
    " [[8. 3. 8.]\n",
    "  [3. 8. 3.]\n",
    "  [8. 3. 8.]]]\n",
    "```"
   ]
  },
  {
   "cell_type": "code",
   "execution_count": 100,
   "metadata": {},
   "outputs": [
    {
     "name": "stdout",
     "output_type": "stream",
     "text": [
      "[[[6. 1. 6.]\n",
      "  [1. 6. 1.]\n",
      "  [6. 1. 6.]]\n",
      "\n",
      " [[7. 2. 7.]\n",
      "  [2. 7. 2.]\n",
      "  [7. 2. 7.]]\n",
      "\n",
      " [[8. 3. 8.]\n",
      "  [3. 8. 3.]\n",
      "  [8. 3. 8.]]]\n"
     ]
    }
   ],
   "source": [
    "# create a copy of my_array named new_array\n",
    "my_array = [[[1]],[[2]],[[3]]] * np.ones((3,3,3))\n",
    "new_array = my_array\n",
    "\n",
    "#add 5 to every other element of new_array\n",
    "new_array[:,0:3:2,0:3:2] += 5\n",
    "new_array[:,1:2,1:2] += 5\n",
    "\n",
    "print(new_array)"
   ]
  },
  {
   "cell_type": "markdown",
   "metadata": {},
   "source": [
    "## Reshaping Matrices"
   ]
  },
  {
   "cell_type": "markdown",
   "metadata": {},
   "source": [
    "#### Please refer to your notes on the `transpose`, `reshape`, and `flatten` methods to answer questions 4-6. "
   ]
  },
  {
   "cell_type": "markdown",
   "metadata": {},
   "source": [
    "#### Q.4 Create a 1D array from on `my_array`."
   ]
  },
  {
   "cell_type": "code",
   "execution_count": 95,
   "metadata": {},
   "outputs": [
    {
     "name": "stdout",
     "output_type": "stream",
     "text": [
      "[6. 1. 6. 1. 6. 1. 6. 1. 6. 7. 2. 7. 2. 7. 2. 7. 2. 7. 8. 3. 8. 3. 8. 3.\n",
      " 8. 3. 8.]\n"
     ]
    }
   ],
   "source": [
    "my_1d_array = my_array.flatten()\n",
    "print(my_1d_array)"
   ]
  },
  {
   "cell_type": "markdown",
   "metadata": {},
   "source": [
    "#### Q.5 Create a 2D array from `my_array` that has 3 rows and 9 columns"
   ]
  },
  {
   "cell_type": "code",
   "execution_count": 96,
   "metadata": {},
   "outputs": [
    {
     "name": "stdout",
     "output_type": "stream",
     "text": [
      "[[6. 1. 6. 1. 6. 1. 6. 1. 6.]\n",
      " [7. 2. 7. 2. 7. 2. 7. 2. 7.]\n",
      " [8. 3. 8. 3. 8. 3. 8. 3. 8.]]\n"
     ]
    }
   ],
   "source": [
    "my_2d_array = my_array.reshape(3,9)\n",
    "print(my_2d_array)"
   ]
  },
  {
   "cell_type": "markdown",
   "metadata": {},
   "source": [
    "#### Q.6 Create a new 3D array from `my_array` so that each 3x3 sub-array has at least one row with the values `[1, 2, 3]`."
   ]
  },
  {
   "cell_type": "code",
   "execution_count": 105,
   "metadata": {},
   "outputs": [
    {
     "name": "stdout",
     "output_type": "stream",
     "text": [
      "[[[1. 2. 3.]\n",
      "  [1. 2. 3.]\n",
      "  [1. 2. 3.]]\n",
      "\n",
      " [[1. 2. 3.]\n",
      "  [1. 2. 3.]\n",
      "  [1. 2. 3.]]\n",
      "\n",
      " [[1. 2. 3.]\n",
      "  [1. 2. 3.]\n",
      "  [1. 2. 3.]]]\n"
     ]
    }
   ],
   "source": [
    "transposed_array = my_array.transpose()\n",
    "print(transposed_array)"
   ]
  },
  {
   "cell_type": "code",
   "execution_count": 118,
   "metadata": {},
   "outputs": [
    {
     "name": "stdout",
     "output_type": "stream",
     "text": [
      "8\n"
     ]
    }
   ],
   "source": [
    "a = np.array([0, 1, 2, 3, 4, 5, 6, 7, 8, 9, 10, 11, 12, 13, 14, 15])\n",
    "b = a.reshape(4, 4)\n",
    "c = a.reshape(2, 2, 4)\n",
    "d = a.reshape(2, 2, 2, 2)\n",
    "print(d[1, 0, 0, 0])"
   ]
  }
 ],
 "metadata": {
  "kernelspec": {
   "display_name": "Python 3",
   "language": "python",
   "name": "python3"
  },
  "language_info": {
   "codemirror_mode": {
    "name": "ipython",
    "version": 3
   },
   "file_extension": ".py",
   "mimetype": "text/x-python",
   "name": "python",
   "nbconvert_exporter": "python",
   "pygments_lexer": "ipython3",
   "version": "3.11.4"
  }
 },
 "nbformat": 4,
 "nbformat_minor": 2
}
