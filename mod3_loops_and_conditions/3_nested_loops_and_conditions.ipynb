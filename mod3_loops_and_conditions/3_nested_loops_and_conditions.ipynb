{
 "cells": [
  {
   "cell_type": "markdown",
   "metadata": {
    "vscode": {
     "languageId": "plaintext"
    }
   },
   "source": [
    "# Loops and Conditions: Nested Loops and Conditions"
   ]
  },
  {
   "cell_type": "markdown",
   "metadata": {},
   "source": [
    "Please follow the instructions and uncomment the skeleton code as necessary.\n",
    "\n",
    "This assignment is due in addition to the small group assignment before the next class"
   ]
  },
  {
   "cell_type": "markdown",
   "metadata": {},
   "source": [
    "## FizzBuzz Problem"
   ]
  },
  {
   "cell_type": "markdown",
   "metadata": {},
   "source": [
    "Write a short program that prints each number from 1 to 100 except:\n",
    "\n",
    "- For each multiple of 3, print \"Fizz\" instead of the number\n",
    "\n",
    "- For each multiple of 5, print \"Buzz\" instead of the number\n",
    "\n",
    "- For numbers which are multiples of both 3 and 5, print \"FizzBuzz\" instead of the number"
   ]
  },
  {
   "cell_type": "markdown",
   "metadata": {},
   "source": [
    "### Q.1 Please outline in words the steps that should be executed for each iteration of the loop"
   ]
  },
  {
   "cell_type": "markdown",
   "metadata": {},
   "source": [
    "### Step 1: If both are true, print fizzbuzz and continue\n",
    "### Step 2: If number%3 = 0, print fizz and continue\n",
    "### Step 3: If number%5 = 0, print buzz and continue\n",
    "### Step 4: If none were ture, print the number"
   ]
  },
  {
   "cell_type": "markdown",
   "metadata": {},
   "source": [
    "### Q.2 Please implement the solution described in Q.1 with comments"
   ]
  },
  {
   "cell_type": "code",
   "execution_count": 9,
   "metadata": {},
   "outputs": [
    {
     "name": "stdout",
     "output_type": "stream",
     "text": [
      "1\n",
      "2\n",
      "Fizz\n",
      "4\n",
      "Buzz\n",
      "Fizz\n",
      "7\n",
      "8\n",
      "Fizz\n",
      "Buzz\n",
      "11\n",
      "Fizz\n",
      "13\n",
      "14\n",
      "FizzBuzz\n",
      "16\n",
      "17\n",
      "Fizz\n",
      "19\n",
      "Buzz\n",
      "Fizz\n",
      "22\n",
      "23\n",
      "Fizz\n",
      "Buzz\n",
      "26\n",
      "Fizz\n",
      "28\n",
      "29\n",
      "FizzBuzz\n",
      "31\n",
      "32\n",
      "Fizz\n",
      "34\n",
      "Buzz\n",
      "Fizz\n",
      "37\n",
      "38\n",
      "Fizz\n",
      "Buzz\n",
      "41\n",
      "Fizz\n",
      "43\n",
      "44\n",
      "FizzBuzz\n",
      "46\n",
      "47\n",
      "Fizz\n",
      "49\n",
      "Buzz\n",
      "Fizz\n",
      "52\n",
      "53\n",
      "Fizz\n",
      "Buzz\n",
      "56\n",
      "Fizz\n",
      "58\n",
      "59\n",
      "FizzBuzz\n",
      "61\n",
      "62\n",
      "Fizz\n",
      "64\n",
      "Buzz\n",
      "Fizz\n",
      "67\n",
      "68\n",
      "Fizz\n",
      "Buzz\n",
      "71\n",
      "Fizz\n",
      "73\n",
      "74\n",
      "FizzBuzz\n",
      "76\n",
      "77\n",
      "Fizz\n",
      "79\n",
      "Buzz\n",
      "Fizz\n",
      "82\n",
      "83\n",
      "Fizz\n",
      "Buzz\n",
      "86\n",
      "Fizz\n",
      "88\n",
      "89\n",
      "FizzBuzz\n",
      "91\n",
      "92\n",
      "Fizz\n",
      "94\n",
      "Buzz\n",
      "Fizz\n",
      "97\n",
      "98\n",
      "Fizz\n",
      "Buzz\n"
     ]
    }
   ],
   "source": [
    "for i in range(100):\n",
    "    if (i+1)%3 == 0 and (i+1)%5 ==0:\n",
    "        print(\"FizzBuzz\")\n",
    "        continue\n",
    "    if (i+1)%3 == 0:\n",
    "        print(\"Fizz\")\n",
    "        continue\n",
    "    if (i+1)%5 == 0:\n",
    "        print(\"Buzz\")\n",
    "        continue\n",
    "    print(i+1)"
   ]
  },
  {
   "cell_type": "markdown",
   "metadata": {},
   "source": [
    "## Understanding Code Flow"
   ]
  },
  {
   "cell_type": "markdown",
   "metadata": {},
   "source": [
    "### Q.3 Please complete the commented lines below with descriptions of the code as indicated. "
   ]
  },
  {
   "cell_type": "code",
   "execution_count": null,
   "metadata": {},
   "outputs": [
    {
     "name": "stdout",
     "output_type": "stream",
     "text": [
      "2 is a prime number\n",
      "3 is a prime number\n",
      "4 = 2 * 2\n",
      "5 is a prime number\n",
      "6 = 2 * 3\n",
      "7 is a prime number\n",
      "8 = 2 * 4\n",
      "9 = 3 * 3\n",
      "10 = 2 * 5\n",
      "\n",
      "List of prime numbers in range: [2, 3, 5, 7]\n"
     ]
    }
   ],
   "source": [
    "# Create list to store prime numbers\n",
    "prime_numbers_list = []\n",
    "\n",
    "# This for loop iterates over the range of numbers from 2 to 10\n",
    "for n in range(2,11):\n",
    "    # Set is_prime as True\n",
    "    is_prime = True\n",
    "    # This for loop iterates over the range of numbers from 2 to n\n",
    "    for k in range(2, n):\n",
    "        # This condition checks if n is divisible by k\n",
    "        if n % k == 0:\n",
    "            # If n % k == 0, then n is not prime\n",
    "            print(f\"{n} = {k} * {n // k}\")\n",
    "            is_prime = False\n",
    "            break\n",
    "    # This condition checks if is_prime is True\n",
    "    if is_prime:\n",
    "        # If n is prime, then print as output \n",
    "        # and append to list of prime numbers\n",
    "        print(f\"{n} is a prime number\")\n",
    "        prime_numbers_list.append(n)\n",
    "        \n",
    "print(f\"\\nList of prime numbers in range: {prime_numbers_list}\")"
   ]
  },
  {
   "cell_type": "markdown",
   "metadata": {},
   "source": [
    "### Q.4 In one sentence, what is the main objective of the code above?"
   ]
  },
  {
   "cell_type": "markdown",
   "metadata": {},
   "source": [
    "### The main objective is to find the prime numbers between 2 and 10, and justify those that aren't prime."
   ]
  },
  {
   "cell_type": "code",
   "execution_count": 14,
   "metadata": {},
   "outputs": [
    {
     "name": "stdout",
     "output_type": "stream",
     "text": [
      "0\n",
      "0\n",
      "0\n",
      "0\n",
      "0\n",
      "0\n",
      "0\n",
      "0\n",
      "0\n",
      "0\n",
      "0\n",
      "1\n",
      "4\n",
      "9\n",
      "16\n",
      "25\n",
      "36\n",
      "49\n",
      "64\n",
      "81\n",
      "0\n",
      "2\n",
      "8\n",
      "18\n",
      "32\n",
      "50\n",
      "72\n",
      "98\n",
      "128\n",
      "162\n",
      "0\n",
      "3\n",
      "12\n",
      "27\n",
      "48\n",
      "75\n",
      "108\n",
      "147\n",
      "192\n",
      "243\n",
      "0\n",
      "4\n",
      "16\n",
      "36\n",
      "64\n",
      "100\n",
      "144\n",
      "196\n",
      "256\n",
      "324\n",
      "0\n",
      "5\n",
      "20\n",
      "45\n",
      "80\n",
      "125\n",
      "180\n",
      "245\n",
      "320\n",
      "405\n",
      "0\n",
      "6\n",
      "24\n",
      "54\n",
      "96\n",
      "150\n",
      "216\n",
      "294\n",
      "384\n",
      "486\n",
      "0\n",
      "7\n",
      "28\n",
      "63\n",
      "112\n",
      "175\n",
      "252\n",
      "343\n",
      "448\n",
      "567\n",
      "0\n",
      "8\n",
      "32\n",
      "72\n",
      "128\n",
      "200\n",
      "288\n",
      "392\n",
      "512\n",
      "648\n",
      "0\n",
      "9\n",
      "36\n",
      "81\n",
      "144\n",
      "225\n",
      "324\n",
      "441\n",
      "576\n",
      "729\n"
     ]
    }
   ],
   "source": [
    "# Block C\n",
    "for x in range(10):\n",
    "    for y in range(10):\n",
    "        print(x*y*y)"
   ]
  }
 ],
 "metadata": {
  "kernelspec": {
   "display_name": "Python 3",
   "language": "python",
   "name": "python3"
  },
  "language_info": {
   "codemirror_mode": {
    "name": "ipython",
    "version": 3
   },
   "file_extension": ".py",
   "mimetype": "text/x-python",
   "name": "python",
   "nbconvert_exporter": "python",
   "pygments_lexer": "ipython3",
   "version": "3.11.4"
  }
 },
 "nbformat": 4,
 "nbformat_minor": 2
}
